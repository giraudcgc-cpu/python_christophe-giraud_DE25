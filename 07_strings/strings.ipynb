{
 "cells": [
  {
   "cell_type": "markdown",
   "id": "8d229178",
   "metadata": {},
   "source": [
    "#Concatenate strings"
   ]
  },
  {
   "cell_type": "markdown",
   "id": "68f111cb",
   "metadata": {},
   "source": []
  },
  {
   "cell_type": "code",
   "execution_count": 2,
   "id": "a237c1ab",
   "metadata": {},
   "outputs": [
    {
     "data": {
      "text/plain": [
       "'Kokchun Giang'"
      ]
     },
     "execution_count": 2,
     "metadata": {},
     "output_type": "execute_result"
    }
   ],
   "source": [
    "firstname = \"Kokchun\"\n",
    "lastname = \"Giang\"\n",
    "fullname = firstname + \" \" + lastname\n",
    "fullname\n"
   ]
  },
  {
   "cell_type": "code",
   "execution_count": 3,
   "id": "6e51dd54",
   "metadata": {},
   "outputs": [
    {
     "name": "stdout",
     "output_type": "stream",
     "text": [
      "Kokchun Giang\n"
     ]
    }
   ],
   "source": [
    "# concatenate with \" \"\n",
    "space = \" \"\n",
    "fullname_with_space = firstname + space + lastname\n",
    "print(fullname_with_space)"
   ]
  },
  {
   "cell_type": "code",
   "execution_count": 7,
   "id": "63cf2ab5",
   "metadata": {},
   "outputs": [
    {
     "name": "stdout",
     "output_type": "stream",
     "text": [
      "Kokchun Giang is working in a company called AIgineer AB. The address is Siljansvägen 25\n"
     ]
    }
   ],
   "source": [
    "# Multi lines f-string to concatenate\n",
    "\n",
    "work = \"AIgineer AB\"\n",
    "address = \"Siljansvägen 25\"\n",
    "phone = \"112\"\n",
    "\n",
    "#f-string with one line\n",
    "print(f\"{fullname_with_space} is working in a company called {work}. The address is {address}\")\n"
   ]
  },
  {
   "cell_type": "code",
   "execution_count": 8,
   "id": "1a276c91",
   "metadata": {},
   "outputs": [
    {
     "name": "stdout",
     "output_type": "stream",
     "text": [
      "Kokchun Giang is working in a company called AIgineer AB.\n",
      "and his address is AIgineer AB\n"
     ]
    }
   ],
   "source": [
    "# f-string with multiple lines\n",
    "print(f\"\"\"{fullname_with_space} is working in a company called {work}.\n",
    "and his address is {work}\"\"\")"
   ]
  },
  {
   "cell_type": "code",
   "execution_count": null,
   "id": "a38e8764",
   "metadata": {},
   "outputs": [
    {
     "name": "stdout",
     "output_type": "stream",
     "text": [
      "Todays's fruts: apple orange strawberry\n"
     ]
    }
   ],
   "source": [
    "# Concantenate string with loop\n",
    "\n",
    "fruits_today = \"apple \" + \"orange \" + \"strawberry\"   #<--- I can add a space between apple and the 2nd \" to create a space (same with orange). Comma also ok\n",
    "print(f\"Todays's fruts: {fruits_today}\")    # here we print all fruits on one line."
   ]
  },
  {
   "cell_type": "code",
   "execution_count": null,
   "id": "dd3a9b3b",
   "metadata": {},
   "outputs": [
    {
     "name": "stdout",
     "output_type": "stream",
     "text": [
      "apple\n",
      "orange\n",
      "strawberry\n"
     ]
    }
   ],
   "source": [
    "fruits_today_list = [\"apple\",\"orange\",\"strawberry\"]  #here we print, one fruit after the other, so they go on diff lines\n",
    "for fruit in fruits_today_list:\n",
    "    print(fruit)"
   ]
  },
  {
   "cell_type": "markdown",
   "id": "56593c59",
   "metadata": {},
   "source": [
    "# Indexing and Slicing\n",
    "\n",
    "- to access an item.\n",
    "- what is an item in the context of strings? => it is one of the characters inside the string.\n",
    "- we use []\n",
    "- Slicing is poss\n",
    "\n",
    "A string is a combination of many characters."
   ]
  },
  {
   "cell_type": "code",
   "execution_count": 15,
   "id": "886cf886",
   "metadata": {},
   "outputs": [
    {
     "name": "stdout",
     "output_type": "stream",
     "text": [
      "Kokchun Giang\n",
      "The 1rst letter of the string is K\n",
      "The last letter of the string is g\n",
      "The last letter of the string is g\n"
     ]
    }
   ],
   "source": [
    "\n",
    "# index\n",
    "print(fullname_with_space)\n",
    "print(f\"The 1rst letter of the string is {fullname_with_space[0]}\")\n",
    "print(f\"The last letter of the string is {fullname_with_space[12]}\")\n",
    "print(f\"The last letter of the string is {fullname_with_space[-1]}\")"
   ]
  },
  {
   "cell_type": "code",
   "execution_count": null,
   "id": "d431c2ed",
   "metadata": {},
   "outputs": [
    {
     "name": "stdout",
     "output_type": "stream",
     "text": [
      "The 1rst five letters: Kokch\n",
      "The last five letters: Giang\n",
      "The last five letters: gnaiG\n"
     ]
    }
   ],
   "source": [
    "# Slicing with :\n",
    "print(f\"The 1rst five letters: {fullname_with_space[0:5]}\")\n",
    "print(f\"The last five letters: {fullname_with_space[-5:]}\") #<--- starts from -5 and goes to \n",
    "\n",
    "\n",
    "# Slicing reversing\n",
    "print(f\"The last five letters: {fullname_with_space[-1:-6:-1]}\")\n"
   ]
  },
  {
   "cell_type": "markdown",
   "id": "80281bf7",
   "metadata": {},
   "source": [
    "# Some strings methods \n",
    "\n",
    "To change the case of strings: <br>\n",
    ".lower() <br>\n",
    ".upper() <br>\n",
    ".title()  <br>\n",
    ".swapcase() <br>\n",
    ".capitalize() <br>\n",
    "\n",
    "len()\n",
    "\n",
    "FUNCTION Vs METHOD on string variables:\n",
    "- syntax of using function: len(string_variable)      <--- using function is to have something into the ()\n",
    "\n",
    "- syntax of using method: string_variable.upper()   "
   ]
  },
  {
   "cell_type": "code",
   "execution_count": null,
   "id": "359d205b",
   "metadata": {},
   "outputs": [
    {
     "data": {
      "text/plain": [
       "5"
      ]
     },
     "execution_count": 47,
     "metadata": {},
     "output_type": "execute_result"
    }
   ],
   "source": [
    "# using len()\n",
    "name = \"Edith\"\n",
    "len(name)\n"
   ]
  },
  {
   "cell_type": "code",
   "execution_count": null,
   "id": "8def6909",
   "metadata": {},
   "outputs": [
    {
     "data": {
      "text/plain": [
       "['Math', ' biology  ', ' cHemistry  ', ' PrOgramming']"
      ]
     },
     "execution_count": 35,
     "metadata": {},
     "output_type": "execute_result"
    }
   ],
   "source": [
    "# Spliting\n",
    "subjects  = \"Math, biology  , cHemistry  , PrOgramming\"   # If I use \"\" for each elements, it prints with () \n",
    "subjects"
   ]
  },
  {
   "cell_type": "code",
   "execution_count": 37,
   "id": "1d44ef9a",
   "metadata": {},
   "outputs": [
    {
     "data": {
      "text/plain": [
       "['Math', ' biology  ', ' cHemistry  ', ' PrOgramming']"
      ]
     },
     "execution_count": 37,
     "metadata": {},
     "output_type": "execute_result"
    }
   ],
   "source": [
    "subjects  = \"Math, biology  , cHemistry  , PrOgramming\"   # If I use \"\" for each elements, it prints with () \n",
    "subjects = subjects.split(\",\")\n",
    "subjects #it will become a list. The engineering behind the use of the code understands that the output is likely a list/collection of data type\n"
   ]
  },
  {
   "cell_type": "code",
   "execution_count": null,
   "id": "c8225e01",
   "metadata": {},
   "outputs": [
    {
     "name": "stdout",
     "output_type": "stream",
     "text": [
      "Math\n",
      "biology\n",
      "cHemistry\n",
      "PrOgramming\n"
     ]
    }
   ],
   "source": [
    "# Stripe - take off leading and trailling spaces\n",
    "for subject in subjects:\n",
    "    print(subject.strip())\n"
   ]
  },
  {
   "cell_type": "code",
   "execution_count": null,
   "id": "434466c1",
   "metadata": {},
   "outputs": [
    {
     "name": "stdout",
     "output_type": "stream",
     "text": [
      "MATH\n",
      "BIOLOGY\n",
      "CHEMISTRY\n",
      "PROGRAMMING\n"
     ]
    }
   ],
   "source": [
    "# Upper case\n",
    "\n",
    "for subject in subjects:\n",
    "    print(subject.strip().upper())"
   ]
  },
  {
   "cell_type": "markdown",
   "id": "e682bf63",
   "metadata": {},
   "source": [
    "# Regex\n",
    "\n",
    "Looking for pattern, using an index for ex.<br>\n",
    "Way to match strings\n",
    "\n",
    "Needs to  import a package called \"re\" as: import re <br>\n",
    "comes with diff functions. <br>\n",
    "Syntax of using fonctions from an imported package. <br>\n",
    "ex: re.findall() as imported_package.function() <br>\n",
    "\n",
    "More on Regex to be found at https://www.w3schools.com/python/python_regex.asp"
   ]
  },
  {
   "cell_type": "code",
   "execution_count": 54,
   "id": "da0def74",
   "metadata": {},
   "outputs": [
    {
     "data": {
      "text/plain": [
       "['att', 'att']"
      ]
     },
     "execution_count": 54,
     "metadata": {},
     "output_type": "execute_result"
    }
   ],
   "source": [
    "# ex: checking if a serie of letters are a pattern or appearing several times\n",
    "import re\n",
    "text = \"Det var en gång en katt som tog på sig en hatt.\"\n",
    "list_letter_att = re.findall(\"att\", text)     #<---1rst argument is the pattern, the 2nd is the location\n",
    "list_letter_att\n"
   ]
  },
  {
   "cell_type": "code",
   "execution_count": 56,
   "id": "6cb8b91a",
   "metadata": {},
   "outputs": [
    {
     "data": {
      "text/plain": [
       "['katt', 'hatt']"
      ]
     },
     "execution_count": 56,
     "metadata": {},
     "output_type": "execute_result"
    }
   ],
   "source": [
    "# changing the pattern\n",
    "\n",
    "list_word_att = re.findall(\".att\", text)     #<--- the point . takes all the whole value containing \"att\"\n",
    "list_word_att\n"
   ]
  },
  {
   "cell_type": "code",
   "execution_count": 57,
   "id": "b74dc1a0",
   "metadata": {},
   "outputs": [
    {
     "data": {
      "text/plain": [
       "['19950516', '19581212']"
      ]
     },
     "execution_count": 57,
     "metadata": {},
     "output_type": "execute_result"
    }
   ],
   "source": [
    "# ex with person_nummer \n",
    "personal_number = \"Ida: 19950516-2235, Berit: 19581212-3213\"\n",
    "personal_number_eight = re.findall(r\"\\d{8}\", personal_number)\n",
    "personal_number_eight"
   ]
  }
 ],
 "metadata": {
  "kernelspec": {
   "display_name": "python_christophe-giraud_DE25",
   "language": "python",
   "name": "python3"
  },
  "language_info": {
   "codemirror_mode": {
    "name": "ipython",
    "version": 3
   },
   "file_extension": ".py",
   "mimetype": "text/x-python",
   "name": "python",
   "nbconvert_exporter": "python",
   "pygments_lexer": "ipython3",
   "version": "3.12.10"
  }
 },
 "nbformat": 4,
 "nbformat_minor": 5
}
