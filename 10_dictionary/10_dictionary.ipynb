{
 "cells": [
  {
   "cell_type": "markdown",
   "id": "c0bec08e",
   "metadata": {},
   "source": [
    "# Lecture 10 - Dictionary\n",
    "\n",
    "\n",
    "- A collection data type\n",
    "- {}\n",
    "- Data is stored in to key:value pairs\n",
    "- Can contain str, int, other collection data types like list, dict..."
   ]
  },
  {
   "cell_type": "markdown",
   "id": "a3265ac0",
   "metadata": {},
   "source": [
    "## Create a dictionary with dict()"
   ]
  },
  {
   "cell_type": "code",
   "execution_count": null,
   "id": "0d5e262b",
   "metadata": {},
   "outputs": [
    {
     "data": {
      "text/plain": [
       "{'name': 'Kockchun', 'age': 34.9, 'work': 'teacher'}"
      ]
     },
     "execution_count": 6,
     "metadata": {},
     "output_type": "execute_result"
    }
   ],
   "source": [
    "# instantiate a dic object called person\n",
    "person = dict(\n",
    "    name = \"Kockchun\",\n",
    "    age  = 34.9,\n",
    "    work = \"teacher\"\n",
    ")\n",
    "person"
   ]
  },
  {
   "cell_type": "code",
   "execution_count": 9,
   "id": "c04b699f",
   "metadata": {},
   "outputs": [
    {
     "name": "stdout",
     "output_type": "stream",
     "text": [
      "Kockchun\n",
      "teacher\n"
     ]
    }
   ],
   "source": [
    "# retrieve data from this dictonary - 1rst option\n",
    "# make use of the key for each value\n",
    "print(person[\"name\"]) # compare to indexing in a list like list\n",
    "print(person[\"work\"])\n"
   ]
  },
  {
   "cell_type": "markdown",
   "id": "93a6be40",
   "metadata": {},
   "source": [
    "## Create a dictionary using {}\n"
   ]
  },
  {
   "cell_type": "code",
   "execution_count": 21,
   "id": "0db59464",
   "metadata": {},
   "outputs": [
    {
     "name": "stdout",
     "output_type": "stream",
     "text": [
      "Kockchun\n",
      "teacher\n",
      "python\n",
      "city:Stockholm\n"
     ]
    }
   ],
   "source": [
    "person = {\n",
    "\"name\": \"Kockchun\",\n",
    "\"age\": 34.9,\n",
    "\"work\": \"teacher\",\n",
    "\"interests\": [\"math\",\"python\",\"yoga\"],\n",
    "\"address\": [\"country:\" \"Sweden\", \"city:\" \"Stockholm\"]\n",
    "}\n",
    "print(person[\"name\"])\n",
    "print(person[\"work\"])\n",
    "print(person[\"interests\"][1])  # <---   I can index the value/list in the dict.\n",
    "print(person[\"address\"][1]) "
   ]
  },
  {
   "cell_type": "markdown",
   "id": "e45d5113",
   "metadata": {},
   "source": [
    "## Iterate over a dictionary"
   ]
  },
  {
   "cell_type": "code",
   "execution_count": 1,
   "id": "71bf8ea6",
   "metadata": {},
   "outputs": [],
   "source": [
    "words = {\n",
    "    \"data structure\": \"means of storing data\",\n",
    "    \"regression\": \"a function to best fit the data\",\n",
    "    \"method\": \"a function bound to an object\"\n",
    "}"
   ]
  },
  {
   "cell_type": "code",
   "execution_count": null,
   "id": "caaf7c99",
   "metadata": {},
   "outputs": [
    {
     "name": "stdout",
     "output_type": "stream",
     "text": [
      "Keys: data structure\n",
      "values: means of storing data\n",
      "-----\n",
      "Keys: regression\n",
      "values: a function to best fit the data\n",
      "-----\n",
      "Keys: method\n",
      "values: a function bound to an object\n",
      "-----\n"
     ]
    }
   ],
   "source": [
    "# iterate over both keys and values\n",
    "for key,value in words.items():\n",
    "    print(f\"Keys: {key}\")\n",
    "    print(F\"values: {value}\")\n",
    "    print(\"-----\")"
   ]
  },
  {
   "cell_type": "code",
   "execution_count": 4,
   "id": "ebaa574b",
   "metadata": {},
   "outputs": [
    {
     "name": "stdout",
     "output_type": "stream",
     "text": [
      "Key: data structure\n",
      "-----\n",
      "Key: regression\n",
      "-----\n",
      "Key: method\n",
      "-----\n"
     ]
    }
   ],
   "source": [
    "words = {\n",
    "    \"data structure\": \"means of storing data\",\n",
    "    \"regression\": \"a function to best fit the data\",\n",
    "    \"method\": \"a function bound to an object\"\n",
    "}\n",
    "\n",
    "# iterate over keys\n",
    "for key in words.keys():\n",
    "    print(f\"Key: {key}\")\n",
    "    print(\"-----\")"
   ]
  },
  {
   "cell_type": "code",
   "execution_count": 7,
   "id": "4465bff8",
   "metadata": {},
   "outputs": [
    {
     "name": "stdout",
     "output_type": "stream",
     "text": [
      "Value: means of storing data\n",
      "-----\n",
      "Value: a function to best fit the data\n",
      "-----\n",
      "Value: a function bound to an object\n",
      "-----\n"
     ]
    }
   ],
   "source": [
    "words = {\n",
    "    \"data structure\": \"means of storing data\",\n",
    "    \"regression\": \"a function to best fit the data\",\n",
    "    \"method\": \"a function bound to an object\"\n",
    "}\n",
    "\n",
    "# Iterate over values\n",
    "for value in words.values():\n",
    "    print(f\"Value: {value}\")\n",
    "    print(\"-----\")"
   ]
  },
  {
   "cell_type": "markdown",
   "id": "a097ab92",
   "metadata": {},
   "source": [
    "## Dictionary comprehension"
   ]
  },
  {
   "cell_type": "code",
   "execution_count": null,
   "id": "e6630a0f",
   "metadata": {},
   "outputs": [],
   "source": [
    "# We want to produce a dictionary called grade_limit\n",
    "\n",
    "# Create this dict from scratch - this is manually created\n",
    "grade_limit = {\n",
    "\"F\": 0,\n",
    "\"E\": 10,\n",
    "\"D\": 20,\n",
    "\"C\": 30,\n",
    "\"B\": 40,\n",
    "\"A\": 50\n",
    "}\n",
    "# Above, it is following a pattern, a list of letters and an incremental of 10 for each letter."
   ]
  },
  {
   "cell_type": "code",
   "execution_count": 13,
   "id": "21804e13",
   "metadata": {},
   "outputs": [
    {
     "name": "stdout",
     "output_type": "stream",
     "text": [
      "0\n",
      "1\n",
      "2\n",
      "3\n",
      "4\n",
      "5\n"
     ]
    }
   ],
   "source": [
    "for i, grade in enumerate(\"FEDCBA\"):\n",
    "    print(i)\n"
   ]
  },
  {
   "cell_type": "code",
   "execution_count": null,
   "id": "3a425f8e",
   "metadata": {},
   "outputs": [
    {
     "data": {
      "text/plain": [
       "{'F': 0, 'E': 10, 'D': 20, 'C': 30, 'B': 40, 'A': 50}"
      ]
     },
     "execution_count": 16,
     "metadata": {},
     "output_type": "execute_result"
    }
   ],
   "source": [
    "# Create the same dict with dict comprehension\n",
    "grade_limit = {grade: i*10 for i, grade in enumerate(\"FEDCBA\")}\n",
    "grade_limit"
   ]
  }
 ],
 "metadata": {
  "kernelspec": {
   "display_name": "python_christophe-giraud_DE25",
   "language": "python",
   "name": "python3"
  },
  "language_info": {
   "codemirror_mode": {
    "name": "ipython",
    "version": 3
   },
   "file_extension": ".py",
   "mimetype": "text/x-python",
   "name": "python",
   "nbconvert_exporter": "python",
   "pygments_lexer": "ipython3",
   "version": "3.12.10"
  }
 },
 "nbformat": 4,
 "nbformat_minor": 5
}
