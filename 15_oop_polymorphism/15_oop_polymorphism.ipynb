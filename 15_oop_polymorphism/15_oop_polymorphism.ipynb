{
 "cells": [
  {
   "cell_type": "markdown",
   "id": "2c860c65",
   "metadata": {},
   "source": [
    "15 POLYPHORMISM - OOP\n",
    "\n",
    "\n",
    "\"Many shapes\"\n",
    "\n",
    "same function name or operator used for diff types\n",
    "\"2\" + \"3\" --> \"23\"\n",
    "2 + 3 --> 5\n",
    "\n",
    "In this ex, the plsu operator works diff fro diff types, it has been operator overloaded."
   ]
  },
  {
   "cell_type": "code",
   "execution_count": 1,
   "id": "4fe6665a",
   "metadata": {},
   "outputs": [
    {
     "data": {
      "text/plain": [
       "'222'"
      ]
     },
     "execution_count": 1,
     "metadata": {},
     "output_type": "execute_result"
    }
   ],
   "source": [
    "\"2\" + \"22\""
   ]
  },
  {
   "cell_type": "code",
   "execution_count": 2,
   "id": "62974ce6",
   "metadata": {},
   "outputs": [
    {
     "data": {
      "text/plain": [
       "5"
      ]
     },
     "execution_count": 2,
     "metadata": {},
     "output_type": "execute_result"
    }
   ],
   "source": [
    "2+3"
   ]
  },
  {
   "cell_type": "code",
   "execution_count": 3,
   "id": "4b511b28",
   "metadata": {},
   "outputs": [
    {
     "ename": "TypeError",
     "evalue": "unsupported operand type(s) for +: 'int' and 'str'",
     "output_type": "error",
     "traceback": [
      "\u001b[31m---------------------------------------------------------------------------\u001b[39m",
      "\u001b[31mTypeError\u001b[39m                                 Traceback (most recent call last)",
      "\u001b[36mCell\u001b[39m\u001b[36m \u001b[39m\u001b[32mIn[3]\u001b[39m\u001b[32m, line 1\u001b[39m\n\u001b[32m----> \u001b[39m\u001b[32m1\u001b[39m \u001b[32;43m2\u001b[39;49m\u001b[43m \u001b[49m\u001b[43m+\u001b[49m\u001b[43m \u001b[49m\u001b[33;43m\"\u001b[39;49m\u001b[33;43m22\u001b[39;49m\u001b[33;43m\"\u001b[39;49m\n\u001b[32m      2\u001b[39m \u001b[38;5;66;03m# cannot operated diff things\u001b[39;00m\n",
      "\u001b[31mTypeError\u001b[39m: unsupported operand type(s) for +: 'int' and 'str'"
     ]
    }
   ],
   "source": [
    "2 + \"22\"\n",
    "# cannot operated diff things"
   ]
  },
  {
   "cell_type": "code",
   "execution_count": 4,
   "id": "cf2e343b",
   "metadata": {},
   "outputs": [
    {
     "data": {
      "text/plain": [
       "[2, 2]"
      ]
     },
     "execution_count": 4,
     "metadata": {},
     "output_type": "execute_result"
    }
   ],
   "source": [
    "[2] + [2]"
   ]
  },
  {
   "cell_type": "code",
   "execution_count": 6,
   "id": "94dd589a",
   "metadata": {},
   "outputs": [
    {
     "name": "stdout",
     "output_type": "stream",
     "text": [
      "I am a fish, my name is Fisky\n",
      "fish Fisky says blump blump\n",
      "I am a fish, my name is Nemo\n",
      "fish Nemo says blump blump\n",
      "I am a fox, my name is Reinard, no one knows how I sound\n"
     ]
    }
   ],
   "source": [
    "#POLYPHORMISM IN CLASS METHODS\n",
    "\n",
    "class Fish:\n",
    "    def __init__(self,name):\n",
    "        self.name = name\n",
    "    \n",
    "    def __str__(self):\n",
    "        return f\"I am a fish, my name is {self.name}\"\n",
    "\n",
    "    def speak(self):\n",
    "        print(f\"fish {self.name} says blump blump\")\n",
    "\n",
    "\n",
    "class Fox:\n",
    "    def __init__(self,name):\n",
    "        self.name = name\n",
    "    \n",
    "    def __str__(self):\n",
    "        return f\"I am a fox, my name is {self.name}, no one knows how I sound\"\n",
    "\n",
    "    def speak(self):\n",
    "        return NotImplemented\n",
    "\n",
    "\n",
    "animals = [Fish('Fisky'), Fish('Nemo'), Fox('Reinard')]     #Think about having identical spelling\n",
    "\n",
    "for animal in animals:\n",
    "    # using same meth() name but behaves diff for diff types\n",
    "    print(animal) # uses __str__() for both Fish and Fox\n",
    "    animal.speak() # uses speak for both Fish and Fox"
   ]
  },
  {
   "cell_type": "markdown",
   "id": "d1645c53",
   "metadata": {},
   "source": [
    "VECTOR"
   ]
  },
  {
   "cell_type": "code",
   "execution_count": null,
   "id": "5f7a070e",
   "metadata": {},
   "outputs": [
    {
     "name": "stdout",
     "output_type": "stream",
     "text": [
      "<class 'tuple'>\n",
      "(1, 2)\n",
      "<class 'tuple'>\n",
      "('1', 2)\n",
      "value must be number not <class 'str'>\n",
      "<class 'tuple'>\n",
      "()\n",
      "Vector can't be empty\n"
     ]
    }
   ],
   "source": [
    "# fixed!!!\n",
    "\n",
    "from numbers import Number\n",
    "from utils import validate_number\n",
    "\n",
    "class Vector:\n",
    "    \"\"\"A class representing a Euclidean vector\"\"\"\n",
    "    def __init__(self, *numbers):\n",
    "        print(type(numbers))\n",
    "        print(numbers)\n",
    "\n",
    "        for number in numbers:\n",
    "            validate_number(number)\n",
    "\n",
    "        if len(numbers) <= 0:\n",
    "            raise ValueError(\"Vector can't be empty\")\n",
    "\n",
    "        self._numbers = numbers\n",
    "    \n",
    "    @property\n",
    "    def numbers(self):\n",
    "        return self._numbers\n",
    "\n",
    "\n",
    "v1 = Vector(1,2)\n",
    "\n",
    "try:\n",
    "    v2 = Vector(\"1\",2)\n",
    "except TypeError as err:\n",
    "    print(err)\n",
    "\n",
    "try:\n",
    "    v2 = Vector()\n",
    "except ValueError as err:\n",
    "    print(err)\n"
   ]
  },
  {
   "cell_type": "markdown",
   "id": "17b60b58",
   "metadata": {},
   "source": [
    "VECTOR  - MORE COMPLEXITY"
   ]
  },
  {
   "cell_type": "code",
   "execution_count": null,
   "id": "108d4030",
   "metadata": {},
   "outputs": [
    {
     "ename": "SyntaxError",
     "evalue": "cannot assign to function call here. Maybe you meant '==' instead of '='? (799865711.py, line 73)",
     "output_type": "error",
     "traceback": [
      "  \u001b[36mCell\u001b[39m\u001b[36m \u001b[39m\u001b[32mIn[10]\u001b[39m\u001b[32m, line 73\u001b[39m\n\u001b[31m    \u001b[39m\u001b[31mlen(v3) = 2\u001b[39m\n    ^\n\u001b[31mSyntaxError\u001b[39m\u001b[31m:\u001b[39m cannot assign to function call here. Maybe you meant '==' instead of '='?\n"
     ]
    }
   ],
   "source": [
    "from numbers import Number\n",
    "\n",
    "class Vector:\n",
    "    \"\"\"A class representing a Euclidean vector\"\"\"\n",
    "\n",
    "    def __init__(self, *numbers):   # * means that we accept a variable number of arguments here (*numbers)\n",
    "\n",
    "        # validation\n",
    "        for number in numbers:\n",
    "            validate_number(number)\n",
    "\n",
    "        if len(numbers) <= 0:       # Checks if the input is non-empty, raising a ValueError if len(numbers) <= 0\n",
    "            raise ValueError(\"Vector can't be empty\")\n",
    "\n",
    "        self._numbers = numbers     # Storing numbers as a tuple/immutable\n",
    "\n",
    "    # read-only\n",
    "    @property                       # getter-only property, menaing can only read the property's value (like accessing an attribute)/cannot modify it directly\n",
    "    def numbers(self) -> tuple:\n",
    "        return self._numbers\n",
    "    \n",
    "    # above: The @property decorator transforms the numbers method into a getter. \n",
    "    # above: When you access vector.numbers, Python calls the numbers method behind the scenes, returning self._numbers. \n",
    "    # above: Without a setter, any attempt to assign a value (e.g., vector.numbers = (1, 2, 3)) raises an AttributeError.\n",
    "\n",
    "    def __repr__(self):\n",
    "        return f\"Vector{self.numbers}\"\n",
    "\n",
    "    # operator overloading -> makes it possible to use len() function on Vector\n",
    "    def __len__(self) -> int:\n",
    "        # this len works on a tuple\n",
    "        return len(self.numbers)\n",
    "\n",
    "    # operator overloads plus operator\n",
    "    def __add__(self, other: Vector) -> Vector:\n",
    "        # validation code - stop addition of different vector dimensions\n",
    "\n",
    "        # elementwise addition between 2 tuples\n",
    "        numbers = (a + b for a, b in zip(self.numbers, other.numbers))\n",
    "        return Vector(*numbers)         # <--- this means that it returns a new vector\n",
    "\n",
    "    def __sub__(self, other: Vector) -> Vector:\n",
    "        # validation code - stop addition of different vector dimensions\n",
    "\n",
    "        # elementwise subtraction between 2 tuples\n",
    "        numbers = (a - b for a, b in zip(self.numbers, other.numbers))\n",
    "        return Vector(*numbers)\n",
    "\n",
    "    def __getitem__(self, item: int) -> Number:\n",
    "        return self.numbers[item]           # <--- It allows an object to support indexing or slicing\n",
    "\n",
    "    def __mul__(self, number: Number) -> Vector:    # defines the behavior of the multiplication operator * \n",
    "        numbers = (number * a for a in self.numbers)\n",
    "        return Vector(*numbers)\n",
    "    # Above: multiplies each component a in self.numbers by the scalar number. \n",
    "    # For example, if self.numbers = (1, 2, 3) and number = 2, result is (2, 4, 6)\n",
    "\n",
    "\n",
    "    # to make multiplication commutative i.e. a*v1 = v1*a\n",
    "    def __rmul__(self, number: Number) -> Vector:\n",
    "        return self * number\n",
    "\n",
    "\n",
    "v3 = Vector(1, 1)\n",
    "v4 = Vector(1, 2, 41, 5, 2, 6)\n",
    "v5 = Vector(2, -1)\n",
    "\n",
    "print(f\"{len(v3) = }\")\n",
    "print(f\"{len(v4) = }\")\n",
    "print(f\"{v3 = }\")\n",
    "print(f\"{v5 = }\")\n",
    "print(f\"{v5+v3 = }\")\n",
    "print(f\"{v3+v5 = }\")\n",
    "print(f\"{v3-v5 = }\")\n",
    "print(f\"{v4[-1] = }\")\n",
    "print(f\"{v4[2:] = }\")\n",
    "print(f\"{v3 * 5 = }\")\n",
    "\n",
    "5 * v3\n",
    "len(v3) = 2\n",
    "len(v4) = 6\n",
    "v3 = Vector(1, 1)\n",
    "v5 = Vector(2, -1)\n",
    "v5+v3 = Vector(3, 0)\n",
    "v3+v5 = Vector(3, 0)\n",
    "v3-v5 = Vector(-1, 2)\n",
    "v4[-1] = 6\n",
    "v4[2:] = (41, 5, 2, 6)\n",
    "v3 * 5 = Vector(5, 5)"
   ]
  },
  {
   "cell_type": "code",
   "execution_count": 11,
   "id": "c02a73bf",
   "metadata": {},
   "outputs": [
    {
     "data": {
      "text/plain": [
       "3"
      ]
     },
     "execution_count": 11,
     "metadata": {},
     "output_type": "execute_result"
    }
   ],
   "source": [
    "l1 = [1,2,3]\n",
    "l1[-1]"
   ]
  },
  {
   "cell_type": "code",
   "execution_count": 14,
   "id": "368dd6dc",
   "metadata": {},
   "outputs": [
    {
     "name": "stdout",
     "output_type": "stream",
     "text": [
      "1 -1\n",
      "2 -2\n",
      "3 -3\n"
     ]
    }
   ],
   "source": [
    "for a,b in zip((1,2,3), (-1,-2,-3)):\n",
    "    print(a, b)"
   ]
  }
 ],
 "metadata": {
  "kernelspec": {
   "display_name": "python_christophe-giraud_DE25",
   "language": "python",
   "name": "python3"
  },
  "language_info": {
   "codemirror_mode": {
    "name": "ipython",
    "version": 3
   },
   "file_extension": ".py",
   "mimetype": "text/x-python",
   "name": "python",
   "nbconvert_exporter": "python",
   "pygments_lexer": "ipython3",
   "version": "3.12.10"
  }
 },
 "nbformat": 4,
 "nbformat_minor": 5
}
