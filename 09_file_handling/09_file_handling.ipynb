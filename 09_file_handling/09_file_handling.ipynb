{
 "cells": [
  {
   "cell_type": "markdown",
   "id": "94a914ec",
   "metadata": {},
   "source": [
    "# Lecture 9 - File Handling\n",
    "\n",
    "- reading text files (.txt)\n",
    "- we need to read the file\n",
    "- clean the content\n",
    "- write the cleaned content into a new file\n",
    "\n",
    "We focus now on text/string contents (later could be numerical content)"
   ]
  },
  {
   "cell_type": "markdown",
   "id": "1205cbb3",
   "metadata": {},
   "source": [
    "#### Open the file directly\n",
    "\n"
   ]
  },
  {
   "cell_type": "code",
   "execution_count": null,
   "id": "267df811",
   "metadata": {},
   "outputs": [
    {
     "name": "stdout",
     "output_type": "stream",
     "text": [
      "<_io.TextIOWrapper name='test.txt' mode='r' encoding='cp1252'>\n",
      "Edith et Gabriel, mes magnifiques enfants !\n"
     ]
    }
   ],
   "source": [
    "# open the file\n",
    "# the first argument is a path\n",
    "# the second is the mode of opening\n",
    "\n",
    "f = open(\"test.txt\", \"r\") #the first argument is a path. Will start by checking 09_file_handling. \"r\" means read-only\n",
    "print(f)\n",
    "\n",
    "# save the content of the file in a variable, here we save the content of \"f\" into the variable \"text\"\n",
    "text = f.read()\n",
    "print(text)\n",
    "\n",
    "#close the file \n",
    "f.close()   # f can be closed because we saved the data in the variable"
   ]
  },
  {
   "cell_type": "markdown",
   "id": "d7ea5d69",
   "metadata": {},
   "source": [
    "#### Open the file with \"with\" statement"
   ]
  },
  {
   "cell_type": "code",
   "execution_count": 1,
   "id": "0fbe64e5",
   "metadata": {},
   "outputs": [
    {
     "name": "stdout",
     "output_type": "stream",
     "text": [
      "Edith et Gabriel, mes magnifiques enfants !\n"
     ]
    }
   ],
   "source": [
    "with open(\"test.txt\", \"r\") as f:\n",
    "    text = f.read()\n",
    "    # with statement will close the file automatically\n",
    "\n",
    "print(text)     # We have already saved the content from f into text (see above)"
   ]
  },
  {
   "cell_type": "markdown",
   "id": "e958d583",
   "metadata": {},
   "source": [
    "Day 8 10 2025"
   ]
  },
  {
   "cell_type": "markdown",
   "id": "f0de279d",
   "metadata": {},
   "source": [
    "## Cleaning the quotes.txt \n",
    "\n",
    "downlaod from github, to local cpu and pull to VSC under the 09_file_handling folder on the left."
   ]
  },
  {
   "cell_type": "code",
   "execution_count": 2,
   "id": "30709f2f",
   "metadata": {},
   "outputs": [],
   "source": [
    "# We want to use patterns, so we import the re package to clean str comtents\n",
    "import re"
   ]
  },
  {
   "cell_type": "code",
   "execution_count": 3,
   "id": "f5f78c34",
   "metadata": {},
   "outputs": [],
   "source": [
    "# Create an empty list to save the quotes\n",
    "quotes = []\n",
    "\n",
    "# initiate a quote number\n",
    "i = 1"
   ]
  },
  {
   "cell_type": "code",
   "execution_count": null,
   "id": "2723e958",
   "metadata": {},
   "outputs": [
    {
     "name": "stdout",
     "output_type": "stream",
     "text": [
      "<_io.TextIOWrapper name='quotes.txt' mode='r' encoding='cp1252'>\n",
      "\n",
      "  If     we     knew what it was      we were doing, it would not be called research,          would it?     - Albert Einstein\n",
      "\n",
      "Time is a drug. Too       much of it kills you.  -  Terry Pratchett\n",
      "\n",
      "\n",
      " An expert is a person who       has made all the mistakes that           can be made in a          very narrow field - Niels Bohr\n",
      "\n",
      "   Everything must be made as simple as possible. But not simpler. - Albert Einstein     \n",
      "\n",
      "\n",
      "  Nothing in life                is to be feared, it is only to be understood. Now is the time to understand more, so that we may fear less. - Marie  Curie  \n",
      "\n",
      "If I have seen further     it is by standing on the shoulders of Giants. - Isaac Newton\n"
     ]
    }
   ],
   "source": [
    "# open the file using with statement / print out the content at once\n",
    "\n",
    "with open(\"quotes.txt\",\"r\") as f_read:\n",
    "    quotes = f_read.read()\n",
    "print(f_read)   # <--- Not necessary but print the first line of the result \"_io.TextIOWrapper name='quotes.txt' mode='r' encoding='cp1252\"\n",
    "print()\n",
    "print(quotes)\n",
    "\n",
    "# we could create a variable to assign the txt.file like:\n",
    "# raw_file_path = \"quotes.txt\"\n",
    "# and then do, with open(\"raw_file_path\", \"r\") as ..."
   ]
  },
  {
   "cell_type": "code",
   "execution_count": null,
   "id": "eae9fc80",
   "metadata": {},
   "outputs": [
    {
     "name": "stdout",
     "output_type": "stream",
     "text": [
      " If we knew what it was we were doing, it would not be called research, would it? - Albert Einstein\n",
      "\n",
      "Time is a drug. Too much of it kills you. - Terry Pratchett\n",
      "\n",
      "\n",
      " An expert is a person who has made all the mistakes that can be made in a very narrow field - Niels Bohr\n",
      "\n",
      " Everything must be made as simple as possible. But not simpler. - Albert Einstein \n",
      "\n",
      "\n",
      " Nothing in life is to be feared, it is only to be understood. Now is the time to understand more, so that we may fear less. - Marie Curie \n",
      "\n",
      "If I have seen further it is by standing on the shoulders of Giants. - Isaac Newton\n"
     ]
    }
   ],
   "source": [
    "# Going through lines in the file contents\n",
    "with open(\"quotes.txt\",\"r\") as f_read:\n",
    "    for quote in f_read:\n",
    "        # data cleaning\n",
    "        quote = quote.strip(\"\\n\") # replace quote with a modified quote\n",
    "        quote = re.sub(\" +\", \" \", quote) # replace multi spaces with 1 space\n",
    "        # print each line\n",
    "        print(quote)\n",
    "\n"
   ]
  },
  {
   "cell_type": "code",
   "execution_count": null,
   "id": "7a8eb4dd",
   "metadata": {},
   "outputs": [
    {
     "name": "stdout",
     "output_type": "stream",
     "text": [
      " If we knew what it was we were doing, it would not be called research, would it? - Albert Einstein\n",
      "\n",
      "Time is a drug. Too much of it kills you. - Terry Pratchett\n",
      "\n",
      "\n",
      " An expert is a person who has made all the mistakes that can be made in a very narrow field - Niels Bohr\n",
      "\n",
      " Everything must be made as simple as possible. But not simpler. - Albert Einstein \n",
      "\n",
      "\n",
      " Nothing in life is to be feared, it is only to be understood. Now is the time to understand more, so that we may fear less. - Marie Curie \n",
      "\n",
      "If I have seen further it is by standing on the shoulders of Giants. - Isaac Newton\n"
     ]
    }
   ],
   "source": [
    "# Open 2 files, 1 in reading mode (r), the other with writing (w) mode\n",
    "with open(\"quotes.txt\",\"r\") as f_read, open (\"quotes_cleaner.txt\", \"w\") as f_write:\n",
    "    for quote in f_read:\n",
    "        # data cleaning\n",
    "        quote = quote.strip(\"\\n\") # replace quote with a modified quote\n",
    "        quote = re.sub(\" +\", \" \", quote) # replace multi spaces with 1 space\n",
    "        # print each line\n",
    "        print(quote)\n",
    "\n",
    "        if quote != \"\":\n",
    "            f_write.write(f\"{i}. {quote}\\n\")\n",
    "            i +=1  # <--- go to the left in quotes_cleaner.txt and the text will be cleaned with 1. 2. 3. and no extra spaces"
   ]
  }
 ],
 "metadata": {
  "kernelspec": {
   "display_name": "python_christophe-giraud_DE25",
   "language": "python",
   "name": "python3"
  },
  "language_info": {
   "codemirror_mode": {
    "name": "ipython",
    "version": 3
   },
   "file_extension": ".py",
   "mimetype": "text/x-python",
   "name": "python",
   "nbconvert_exporter": "python",
   "pygments_lexer": "ipython3",
   "version": "3.12.10"
  }
 },
 "nbformat": 4,
 "nbformat_minor": 5
}
