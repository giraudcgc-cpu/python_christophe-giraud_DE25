{
 "cells": [
  {
   "cell_type": "markdown",
   "id": "a330fe3f",
   "metadata": {},
   "source": [
    "# Lecture 11 - Functions\n",
    "\n",
    "\n",
    "For reusable code\n",
    "\n",
    "## Create a function"
   ]
  },
  {
   "cell_type": "code",
   "execution_count": 5,
   "id": "04552344",
   "metadata": {},
   "outputs": [],
   "source": [
    "# ex of a function\n",
    "def squarer(x):     # use def, squarer is the funct name, x i the parameter\n",
    "    result = x**2   # statement /action for python to execute\n",
    "    return result   # the output"
   ]
  },
  {
   "cell_type": "code",
   "execution_count": 6,
   "id": "b4d844b4",
   "metadata": {},
   "outputs": [
    {
     "data": {
      "text/plain": [
       "4"
      ]
     },
     "execution_count": 6,
     "metadata": {},
     "output_type": "execute_result"
    }
   ],
   "source": [
    "# call the function\n",
    "squarer(2)          # cite the function, () is called callable, 2 is the argument. "
   ]
  },
  {
   "cell_type": "markdown",
   "id": "887a2fa2",
   "metadata": {},
   "source": [
    "#### Positional arguments"
   ]
  },
  {
   "cell_type": "code",
   "execution_count": 10,
   "id": "ec1539e1",
   "metadata": {},
   "outputs": [],
   "source": [
    "def my_fruits(fruits_like, fruits_hate):\n",
    "    print(f\"I like to eat {fruits_like}\")\n",
    "    print(f\"But I hate to eat {fruits_hate}\")\n",
    "    return None     # python will add this line if you don't have return block"
   ]
  },
  {
   "cell_type": "code",
   "execution_count": 13,
   "id": "855931b3",
   "metadata": {},
   "outputs": [
    {
     "name": "stdout",
     "output_type": "stream",
     "text": [
      "I like to eat apple\n",
      "But I hate to eat orange\n"
     ]
    }
   ],
   "source": [
    "my_fruits(\"apple\",\"orange\")"
   ]
  },
  {
   "cell_type": "code",
   "execution_count": null,
   "id": "c097c481",
   "metadata": {},
   "outputs": [
    {
     "name": "stdout",
     "output_type": "stream",
     "text": [
      "I like to eat orange\n",
      "But I hate to eat apple\n"
     ]
    }
   ],
   "source": [
    "# By providing the argument, I can change the logic\n",
    "\n",
    "my_fruits(fruits_hate=\"apple\", fruits_like=\"orange\")"
   ]
  },
  {
   "cell_type": "markdown",
   "id": "fcf10008",
   "metadata": {},
   "source": [
    "#### Kw arguments"
   ]
  },
  {
   "cell_type": "code",
   "execution_count": 16,
   "id": "b3410a95",
   "metadata": {},
   "outputs": [
    {
     "ename": "TypeError",
     "evalue": "my_fruits() takes 2 positional arguments but 3 were given",
     "output_type": "error",
     "traceback": [
      "\u001b[31m---------------------------------------------------------------------------\u001b[39m",
      "\u001b[31mTypeError\u001b[39m                                 Traceback (most recent call last)",
      "\u001b[36mCell\u001b[39m\u001b[36m \u001b[39m\u001b[32mIn[16]\u001b[39m\u001b[32m, line 2\u001b[39m\n\u001b[32m      1\u001b[39m \u001b[38;5;66;03m# What I provide 3 fruits\u001b[39;00m\n\u001b[32m----> \u001b[39m\u001b[32m2\u001b[39m \u001b[43mmy_fruits\u001b[49m\u001b[43m(\u001b[49m\u001b[33;43m\"\u001b[39;49m\u001b[33;43mapple\u001b[39;49m\u001b[33;43m\"\u001b[39;49m\u001b[43m,\u001b[49m\u001b[33;43m\"\u001b[39;49m\u001b[33;43morange\u001b[39;49m\u001b[33;43m\"\u001b[39;49m\u001b[43m,\u001b[49m\u001b[33;43m\"\u001b[39;49m\u001b[33;43mstrawberry\u001b[39;49m\u001b[33;43m\"\u001b[39;49m\u001b[43m)\u001b[49m\n\u001b[32m      3\u001b[39m \u001b[38;5;66;03m# Due to the error, we need to find another way to deal with the unknown argument\u001b[39;00m\n",
      "\u001b[31mTypeError\u001b[39m: my_fruits() takes 2 positional arguments but 3 were given"
     ]
    }
   ],
   "source": [
    "# What I provide 3 fruits\n",
    "my_fruits(\"apple\",\"orange\",\"strawberry\")\n",
    "# Due to the error, we need to find another way to deal with the unknown argument"
   ]
  },
  {
   "cell_type": "markdown",
   "id": "4d16f8e1",
   "metadata": {},
   "source": [
    "#### Unknown nb of positional arguments"
   ]
  },
  {
   "cell_type": "code",
   "execution_count": null,
   "id": "e9c52956",
   "metadata": {},
   "outputs": [],
   "source": [
    "# Suppose I want to print all fruits that are inputed as arguments to a function\n",
    "# We use the symbol * to state the postion argument\n",
    "\n",
    "def print_fruits(*fruits):      # Symbol * means positional argument, the nb of arguments will be shown\n",
    "    for fruit in fruits:        # When using the *, python will create a tuple on the runtime\n",
    "        print(fruit)\n",
    "    return type(fruits)"
   ]
  },
  {
   "cell_type": "code",
   "execution_count": 22,
   "id": "d1bf9453",
   "metadata": {},
   "outputs": [
    {
     "name": "stdout",
     "output_type": "stream",
     "text": [
      "apple\n",
      "orange\n",
      "strawberry\n"
     ]
    },
    {
     "data": {
      "text/plain": [
       "tuple"
      ]
     },
     "execution_count": 22,
     "metadata": {},
     "output_type": "execute_result"
    }
   ],
   "source": [
    "print_fruits(\"apple\",\"orange\",\"strawberry\")"
   ]
  },
  {
   "cell_type": "markdown",
   "id": "02fd5a43",
   "metadata": {},
   "source": [
    "#### Unknown nb of kw arguments"
   ]
  },
  {
   "cell_type": "code",
   "execution_count": null,
   "id": "2da79442",
   "metadata": {},
   "outputs": [],
   "source": [
    "def print_nr_fruits(**fruits):      # with 2 *, python will produce a dictionary.\n",
    "    for key,value in fruits.items():\n",
    "        print(key, value)\n",
    "    return type(fruits)"
   ]
  },
  {
   "cell_type": "code",
   "execution_count": 25,
   "id": "189a9d42",
   "metadata": {},
   "outputs": [
    {
     "name": "stdout",
     "output_type": "stream",
     "text": [
      "fruit1 orange\n",
      "fruit2 apple\n"
     ]
    },
    {
     "data": {
      "text/plain": [
       "dict"
      ]
     },
     "execution_count": 25,
     "metadata": {},
     "output_type": "execute_result"
    }
   ],
   "source": [
    "# Need to call the function\n",
    "print_nr_fruits(fruit1=\"orange\", fruit2=\"apple\")      # key is provided when calliong for the function"
   ]
  }
 ],
 "metadata": {
  "kernelspec": {
   "display_name": "python_christophe-giraud_DE25",
   "language": "python",
   "name": "python3"
  },
  "language_info": {
   "codemirror_mode": {
    "name": "ipython",
    "version": 3
   },
   "file_extension": ".py",
   "mimetype": "text/x-python",
   "name": "python",
   "nbconvert_exporter": "python",
   "pygments_lexer": "ipython3",
   "version": "3.12.10"
  }
 },
 "nbformat": 4,
 "nbformat_minor": 5
}
