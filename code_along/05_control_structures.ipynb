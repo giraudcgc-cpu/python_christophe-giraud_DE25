{
 "cells": [
  {
   "cell_type": "markdown",
   "id": "ada95ba2",
   "metadata": {},
   "source": [
    "# If statements\n",
    "\n",
    "- Way to control the flow\n",
    "- based on conditions"
   ]
  },
  {
   "cell_type": "markdown",
   "id": "0d3e6c77",
   "metadata": {},
   "source": [
    "# Sept 25 - Course "
   ]
  },
  {
   "cell_type": "markdown",
   "id": "622ba051",
   "metadata": {},
   "source": []
  },
  {
   "cell_type": "code",
   "execution_count": 4,
   "id": "b563b09e",
   "metadata": {},
   "outputs": [
    {
     "name": "stdout",
     "output_type": "stream",
     "text": [
      "now this is year 0 and there are 80000\n",
      "1\n",
      "now this is year 1 and there are 40000.0\n",
      "2\n",
      "now this is year 2 and there are 20000.0\n",
      "3\n",
      "now this is year 3 and there are 10000.0\n",
      "4\n"
     ]
    }
   ],
   "source": [
    "birds = 80000\n",
    "year = 0\n",
    "\n",
    "while birds > 8000:\n",
    "    print(f\"now this is year {year} and there are {birds}\")\n",
    "    birds /=2\n",
    "    year +=1\n",
    "    print(year)\n"
   ]
  }
 ],
 "metadata": {
  "kernelspec": {
   "display_name": "python_christophe-giraud_DE25",
   "language": "python",
   "name": "python3"
  },
  "language_info": {
   "codemirror_mode": {
    "name": "ipython",
    "version": 3
   },
   "file_extension": ".py",
   "mimetype": "text/x-python",
   "name": "python",
   "nbconvert_exporter": "python",
   "pygments_lexer": "ipython3",
   "version": "3.12.10"
  }
 },
 "nbformat": 4,
 "nbformat_minor": 5
}
