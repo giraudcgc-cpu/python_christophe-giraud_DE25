{
 "cells": [
  {
   "cell_type": "markdown",
   "id": "509ce8d2",
   "metadata": {},
   "source": [
    "# Lecture 4 - input, output and variables"
   ]
  },
  {
   "cell_type": "code",
   "execution_count": 1,
   "id": "4e831a3a",
   "metadata": {},
   "outputs": [
    {
     "name": "stdout",
     "output_type": "stream",
     "text": [
      "Hello\n"
     ]
    }
   ],
   "source": [
    "# use the print statement to print out a string\n",
    "print(\"Hello\")"
   ]
  },
  {
   "cell_type": "code",
   "execution_count": 5,
   "id": "8159d21e",
   "metadata": {},
   "outputs": [
    {
     "name": "stdout",
     "output_type": "stream",
     "text": [
      "Bonjour Edith\n"
     ]
    }
   ],
   "source": [
    "name = \"Edith\"\n",
    "print(f\"Bonjour {name}\")\n"
   ]
  },
  {
   "cell_type": "markdown",
   "id": "8643e199",
   "metadata": {},
   "source": [
    "# Variables (lecture 4)\n",
    "We can:\n",
    "- store data in variables \"assiging value to a variable\"\n",
    "- in different types\n",
    "- use the data by refeering to the variable\n",
    "- in lecture 6, we will see that we can store a collection of values (list, tuple...)\n"
   ]
  },
  {
   "cell_type": "code",
   "execution_count": null,
   "id": "74cd5889",
   "metadata": {},
   "outputs": [],
   "source": [
    "# Further formating \n",
    "See the screenshot\n",
    "\n"
   ]
  },
  {
   "cell_type": "code",
   "execution_count": null,
   "id": "e07677dd",
   "metadata": {},
   "outputs": [
    {
     "name": "stdout",
     "output_type": "stream",
     "text": [
      "Bonjour Edith !\n"
     ]
    }
   ],
   "source": [
    "name = input()\n",
    "print(f\"Bonjour {name} !\")"
   ]
  },
  {
   "cell_type": "code",
   "execution_count": 10,
   "id": "dd476b96",
   "metadata": {},
   "outputs": [
    {
     "name": "stdout",
     "output_type": "stream",
     "text": [
      "Tu as  ans !\n"
     ]
    }
   ],
   "source": [
    "age = input(\"How old are you?\")\n",
    "print(f\"Tu as {age} ans !\")"
   ]
  },
  {
   "cell_type": "markdown",
   "id": "8a8afa1b",
   "metadata": {},
   "source": [
    "# Type coercions\n",
    "\n"
   ]
  },
  {
   "cell_type": "code",
   "execution_count": 13,
   "id": "16f0c6a4",
   "metadata": {},
   "outputs": [
    {
     "name": "stdout",
     "output_type": "stream",
     "text": [
      "Age type is <class 'int'> and Name type is <class 'str'>\n"
     ]
    }
   ],
   "source": [
    "age = 9\n",
    "name = \"Edith\"\n",
    "print(f\"Age type is {type(age)} and Name type is {type(name)}\")"
   ]
  }
 ],
 "metadata": {
  "kernelspec": {
   "display_name": "python_christophe-giraud_DE25",
   "language": "python",
   "name": "python3"
  },
  "language_info": {
   "codemirror_mode": {
    "name": "ipython",
    "version": 3
   },
   "file_extension": ".py",
   "mimetype": "text/x-python",
   "name": "python",
   "nbconvert_exporter": "python",
   "pygments_lexer": "ipython3",
   "version": "3.12.10"
  }
 },
 "nbformat": 4,
 "nbformat_minor": 5
}
