{
 "cells": [
  {
   "cell_type": "markdown",
   "id": "c4de9486",
   "metadata": {},
   "source": [
    "# Lecture 13 - OOP \n"
   ]
  },
  {
   "cell_type": "markdown",
   "id": "feb0d6c8",
   "metadata": {},
   "source": [
    "Object Oriented Programming (OOP)"
   ]
  },
  {
   "cell_type": "code",
   "execution_count": 7,
   "id": "8968e183",
   "metadata": {},
   "outputs": [
    {
     "data": {
      "text/plain": [
       "'STI'"
      ]
     },
     "execution_count": 7,
     "metadata": {},
     "output_type": "execute_result"
    }
   ],
   "source": [
    "# Define a class with name Admission\n",
    "class Admission:\n",
    "    # Dunder init, initializor,  with 2 underscores \n",
    "    # This method will be use when you instiantiate an instance fro,m this class\n",
    "    def __init__(self, school, name, program = \"Cool program\"):\n",
    "\n",
    "        # We set the attributes to the values of the argument\n",
    "        self.school = school\n",
    "        self.name = name\n",
    "        self.program = program\n",
    "\n",
    "# From this admission class, we instantiate persion1 that is of type Admission\n",
    "person1 = Admission(\"STI\", \"Ceda\")\n",
    "\n",
    "person1.school\n"
   ]
  },
  {
   "cell_type": "code",
   "execution_count": 10,
   "id": "59c76aca",
   "metadata": {},
   "outputs": [
    {
     "data": {
      "text/plain": [
       "'Cool program'"
      ]
     },
     "execution_count": 10,
     "metadata": {},
     "output_type": "execute_result"
    }
   ],
   "source": [
    "person1.program"
   ]
  },
  {
   "cell_type": "code",
   "execution_count": 17,
   "id": "3b9259f3",
   "metadata": {},
   "outputs": [
    {
     "data": {
      "text/plain": [
       "<__main__.Admission at 0x1a896503c50>"
      ]
     },
     "execution_count": 17,
     "metadata": {},
     "output_type": "execute_result"
    }
   ],
   "source": [
    "person2 = Admission(name = \"Johnny\", school = \"Cool school\", program = \"Java\")\n",
    "person2"
   ]
  },
  {
   "cell_type": "code",
   "execution_count": 18,
   "id": "04fb2dba",
   "metadata": {},
   "outputs": [
    {
     "data": {
      "text/plain": [
       "'Java'"
      ]
     },
     "execution_count": 18,
     "metadata": {},
     "output_type": "execute_result"
    }
   ],
   "source": [
    "person2.program"
   ]
  },
  {
   "cell_type": "code",
   "execution_count": 15,
   "id": "2d6a0169",
   "metadata": {},
   "outputs": [
    {
     "data": {
      "text/plain": [
       "<__main__.Admission at 0x1a8965eb7d0>"
      ]
     },
     "execution_count": 15,
     "metadata": {},
     "output_type": "execute_result"
    }
   ],
   "source": [
    "person3 =  Admission(name = \"Johnny\", school = \"Cool school\", program = \"Java\")\n",
    "person3"
   ]
  },
  {
   "cell_type": "markdown",
   "id": "57531204",
   "metadata": {},
   "source": [
    "#### Notes on memory \n",
    "By default, the __repr__ of an instance is showing the memory address of where the instance live\n",
    "Each instance of the class lives in a diff memory address."
   ]
  },
  {
   "cell_type": "markdown",
   "id": "e00d71d3",
   "metadata": {},
   "source": [
    "## Implement class Student"
   ]
  },
  {
   "cell_type": "code",
   "execution_count": 24,
   "id": "003d337c",
   "metadata": {},
   "outputs": [
    {
     "data": {
      "text/plain": [
       "Student(name = 'Anna', study_type='data engineering', school='STI', age=23, passed=True)"
      ]
     },
     "execution_count": 24,
     "metadata": {},
     "output_type": "execute_result"
    }
   ],
   "source": [
    "class Student:\n",
    "    def __init__(self, name, age, study_type, school, passed):\n",
    "        self.name = name\n",
    "        self.age = age\n",
    "        self.study_type = study_type\n",
    "        self.school = school\n",
    "        self.passed = passed\n",
    "\n",
    "    # method\n",
    "    def study(self):\n",
    "        print(f\"(self.name), studies(self.study_type)\")\n",
    "\n",
    "    def __str__(self):\n",
    "        return f\"{self.name} is studying {self.study_type} in school {self.school}\"\n",
    "\n",
    "\n",
    "# Implement this\n",
    "    def __repr__(self):\n",
    "        #Student(name = \"Bobbo\", study_type = \"economics\", school =\"Cool school\", age = 31, passed = False)\n",
    "        return f\"Student(name = '{self.name}', study_type='{self.study_type}', school='{self.school}', age={self.age}, passed={self.passed})\" #????\n",
    "\n",
    "\n",
    "\n",
    "s1 = Student(name = \"Anna\", study_type = \"data engineering\", school = \"STI\", age = 23, passed = True)     # here I instantiate a studnt s1\n",
    "             \n",
    "\n",
    "s2 = Student(\n",
    "    name = \"Beda\", \n",
    "    study_type = \"UX\", \n",
    "    passed = True, \n",
    "    school = \"STI\",\n",
    "     age = 33\n",
    ")\n",
    "\n",
    "s1\n",
    "\n"
   ]
  },
  {
   "cell_type": "code",
   "execution_count": 33,
   "id": "2b72dc8b",
   "metadata": {},
   "outputs": [
    {
     "data": {
      "text/plain": [
       "'Anna'"
      ]
     },
     "execution_count": 33,
     "metadata": {},
     "output_type": "execute_result"
    }
   ],
   "source": [
    "s1.name"
   ]
  },
  {
   "cell_type": "markdown",
   "id": "c1a6d76c",
   "metadata": {},
   "source": [
    "#### Dunder repr or _\\_repr\\_\\_\n"
   ]
  },
  {
   "cell_type": "code",
   "execution_count": 22,
   "id": "d1285cb2",
   "metadata": {},
   "outputs": [
    {
     "data": {
      "text/plain": [
       "Student(name = 'Anna', study_type='data engineering', school='STI', age=23, passed=True)"
      ]
     },
     "execution_count": 22,
     "metadata": {},
     "output_type": "execute_result"
    }
   ],
   "source": [
    "s1"
   ]
  },
  {
   "cell_type": "code",
   "execution_count": 23,
   "id": "848d507b",
   "metadata": {},
   "outputs": [
    {
     "name": "stdout",
     "output_type": "stream",
     "text": [
      "Anna is studying data engineering in school STI\n"
     ]
    }
   ],
   "source": [
    "print(s1)"
   ]
  },
  {
   "cell_type": "code",
   "execution_count": null,
   "id": "7ebe4445",
   "metadata": {},
   "outputs": [
    {
     "data": {
      "text/plain": [
       "Student(name = 'Anna', study_type='data engineering', school='STI', age=23, passed=True)"
      ]
     },
     "execution_count": 25,
     "metadata": {},
     "output_type": "execute_result"
    }
   ],
   "source": [
    "# study(self) = repr\n",
    "s1"
   ]
  },
  {
   "cell_type": "markdown",
   "id": "89eb9b0b",
   "metadata": {},
   "source": [
    "# October 16th - Encapsulation\n"
   ]
  },
  {
   "cell_type": "markdown",
   "id": "c1ab27d2",
   "metadata": {},
   "source": [
    "b_oop_encapsulation to create the page \n",
    "\n",
    "Aim is to hide information. <br>\n",
    "user does need to know it. <br>\n",
    "we can hide validation, like when we ask for an age and user enters -5. <br>\n",
    "\n",
    "What need a user to know? <br>\n",
    "Needs to know how to use it...meaning which methods and attributes can be used.<br>\n",
    "One way to do encapsulation is to use private attributes and privates methods...these can't be accessed of the class.\n",
    "However in Pyton there is no such thing as private.\n",
    "So we use private by conventions."
   ]
  },
  {
   "cell_type": "code",
   "execution_count": null,
   "id": "3aaefd46",
   "metadata": {},
   "outputs": [
    {
     "data": {
      "text/plain": [
       "('Kokchun', 34)"
      ]
     },
     "execution_count": 2,
     "metadata": {},
     "output_type": "execute_result"
    }
   ],
   "source": [
    "class Person:\n",
    "    def __init__(self, name, age):\n",
    "        self.name = name\n",
    "        self.age = age\n",
    "\n",
    "\n",
    "p1 = Person(\"Kokchun\", 34)\n",
    "p1.name, p1.age\n"
   ]
  },
  {
   "cell_type": "code",
   "execution_count": 3,
   "id": "f6d1c958",
   "metadata": {},
   "outputs": [
    {
     "data": {
      "text/plain": [
       "-5"
      ]
     },
     "execution_count": 3,
     "metadata": {},
     "output_type": "execute_result"
    }
   ],
   "source": [
    "p2 = Person(\"Ada\", -5)\n",
    "p2.age"
   ]
  },
  {
   "cell_type": "code",
   "execution_count": 3,
   "id": "a4c6b9ed",
   "metadata": {},
   "outputs": [
    {
     "ename": "AttributeError",
     "evalue": "'Person' object has no attribute 'name'",
     "output_type": "error",
     "traceback": [
      "\u001b[31m---------------------------------------------------------------------------\u001b[39m",
      "\u001b[31mAttributeError\u001b[39m                            Traceback (most recent call last)",
      "\u001b[36mCell\u001b[39m\u001b[36m \u001b[39m\u001b[32mIn[3]\u001b[39m\u001b[32m, line 7\u001b[39m\n\u001b[32m      4\u001b[39m         \u001b[38;5;28mself\u001b[39m._age = age\n\u001b[32m      6\u001b[39m p3 = Person(\u001b[33m\"\u001b[39m\u001b[33mBeda\u001b[39m\u001b[33m\"\u001b[39m, -\u001b[32m3\u001b[39m)\n\u001b[32m----> \u001b[39m\u001b[32m7\u001b[39m \u001b[43mp3\u001b[49m\u001b[43m.\u001b[49m\u001b[43mname\u001b[49m\n",
      "\u001b[31mAttributeError\u001b[39m: 'Person' object has no attribute 'name'"
     ]
    }
   ],
   "source": [
    "class Person:\n",
    "    def __init__(self, name, age):\n",
    "        self._name = name\n",
    "        self._age = age\n",
    "\n",
    "p3 = Person(\"Beda\", -3)\n",
    "p3.name"
   ]
  },
  {
   "cell_type": "code",
   "execution_count": 6,
   "id": "731f4906",
   "metadata": {},
   "outputs": [
    {
     "data": {
      "text/plain": [
       "'Beda'"
      ]
     },
     "execution_count": 6,
     "metadata": {},
     "output_type": "execute_result"
    }
   ],
   "source": [
    "# you should not do this, but you can\n",
    "# pyton programmers know that underscore prefix is private by convention\n",
    "p3._name"
   ]
  },
  {
   "cell_type": "code",
   "execution_count": null,
   "id": "05b5a412",
   "metadata": {},
   "outputs": [
    {
     "name": "stdout",
     "output_type": "stream",
     "text": [
      "Age must be between 0 and 124\n"
     ]
    },
    {
     "data": {
      "text/plain": [
       "Person('Eda', 5)"
      ]
     },
     "execution_count": 11,
     "metadata": {},
     "output_type": "execute_result"
    }
   ],
   "source": [
    "# fix validation of the age, not being able to enter -3\n",
    "\n",
    "class Person:\n",
    "    def __init__(self, name, age):\n",
    "        self._name = name \n",
    "\n",
    "        # issue: this validation only happens during instantiation\n",
    "        if not (0 <= age < 125):\n",
    "            raise ValueError(\"Age must be between 0 and 124\")\n",
    "        \n",
    "        self._age = age\n",
    "\n",
    "    def __repr__(self):\n",
    "        return f\"Person('{self._name}', {self._age})\"\n",
    "\n",
    "#p4 = Person(\"Beda\", -5) # => we get ValueError: Age must be between 0 and 124\n",
    "\n",
    "#to fix it:\n",
    "try:\n",
    "    p4 = Person(\"Oda\", -5)\n",
    "except ValueError as err:\n",
    "    print(err)\n",
    "\n",
    "p5 = Person(\"Eda\", 5)\n",
    "p5"
   ]
  },
  {
   "cell_type": "markdown",
   "id": "cb258344",
   "metadata": {},
   "source": [
    "## Property\n",
    "\n",
    "getter = get a value\n",
    "setter = gives a value"
   ]
  },
  {
   "cell_type": "markdown",
   "id": "6c0e5175",
   "metadata": {},
   "source": [
    "##Read-only age\n",
    "\n",
    "\n"
   ]
  },
  {
   "cell_type": "code",
   "execution_count": null,
   "id": "3b50a31a",
   "metadata": {},
   "outputs": [
    {
     "name": "stdout",
     "output_type": "stream",
     "text": [
      "age getter called\n"
     ]
    },
    {
     "data": {
      "text/plain": [
       "8"
      ]
     },
     "execution_count": 15,
     "metadata": {},
     "output_type": "execute_result"
    }
   ],
   "source": [
    "class Person:\n",
    "    def __init__(self, name, age):\n",
    "        self._name = name \n",
    "\n",
    "        # issue: this validation only happens during instantiation\n",
    "        if not (0 <= age < 125):\n",
    "            raise ValueError(\"Age must be between 0 and 124\")\n",
    "        \n",
    "        self._age = age\n",
    "\n",
    "    # a decorator gives a function more functionality    \n",
    "    # makes it into a property (getter and setter)\n",
    "    @property\n",
    "    def age(self):\n",
    "        print(\"age getter called\")\n",
    "        return self._age\n",
    "    \n",
    "    @age.setter\n",
    "    def age(self, value):\n",
    "        print(\"age setter called\")\n",
    "        self._age = value\n",
    "\n",
    "\n",
    "    def __repr__(self):\n",
    "        return f\"Person('{self._name}', {self._age})\"\n",
    "\n",
    "# when instantiating Person, we use the age setter (below)\n",
    "p7 = Person(\"Bob\", 8)\n",
    "# below we used the age getter\n",
    "p7.age"
   ]
  },
  {
   "cell_type": "code",
   "execution_count": null,
   "id": "b909deaf",
   "metadata": {},
   "outputs": [
    {
     "name": "stdout",
     "output_type": "stream",
     "text": [
      "age setter called\n"
     ]
    },
    {
     "data": {
      "text/plain": [
       "Person('Bob', 33)"
      ]
     },
     "execution_count": 16,
     "metadata": {},
     "output_type": "execute_result"
    }
   ],
   "source": [
    "p7.age=33 #In python, we can change the value. Higher was Bob 8, now he is 33.\n",
    "p7"
   ]
  },
  {
   "cell_type": "code",
   "execution_count": null,
   "id": "55dafeca",
   "metadata": {},
   "outputs": [
    {
     "name": "stdout",
     "output_type": "stream",
     "text": [
      "age setter called\n"
     ]
    },
    {
     "data": {
      "text/plain": [
       "Person('Bob', -5)"
      ]
     },
     "execution_count": 17,
     "metadata": {},
     "output_type": "execute_result"
    }
   ],
   "source": [
    "p7.age = -5 # to make sure that this is not allowed!\n",
    "p7"
   ]
  },
  {
   "cell_type": "markdown",
   "id": "713e8b23",
   "metadata": {},
   "source": [
    "# Exercise\n",
    "\n",
    "Make sure this is not allowed (to be able to enter a negative number afterwards). Give proper message."
   ]
  },
  {
   "cell_type": "code",
   "execution_count": null,
   "id": "baa4aee8",
   "metadata": {},
   "outputs": [
    {
     "data": {
      "text/plain": [
       "Person('Gabi', 5)"
      ]
     },
     "execution_count": 21,
     "metadata": {},
     "output_type": "execute_result"
    }
   ],
   "source": [
    "class Person:\n",
    "    def __init__(self, name, age):\n",
    "        self._name = name \n",
    "\n",
    "        # issue: this validation only happens during instantiation\n",
    "        if not (0 <= age < 125):\n",
    "            raise ValueError(\"Age must be between 0 and 124\")\n",
    "        \n",
    "        self._age = age\n",
    "\n",
    "    # a decorator gives a function more functionality    \n",
    "    # makes it into a property (getter and setter)\n",
    "    @property\n",
    "    def age(self):\n",
    "        print(\"age getter called\")\n",
    "        return self._age\n",
    "    \n",
    "    @age.setter\n",
    "    def age(self, value):\n",
    "        print(\"age setter called\") \n",
    "\n",
    "        if not (0 <= value < 125):      # diff with the code above - If the setter runs, with have this protection. hidden.\n",
    "             raise ValueError(f\"Age must be between 0 and 124, not {value}\")        # diff wit code above\n",
    "        self._age = value\n",
    "\n",
    "       \n",
    "    def __repr__(self):\n",
    "        return f\"Person('{self._name}', {self._age})\" # this will get the getter when you ahve a dot.operator\n",
    "    \n",
    "\n",
    "p9 = Person(\"Gabi\", 5)\n",
    "p9"
   ]
  },
  {
   "cell_type": "code",
   "execution_count": null,
   "id": "fb42d5da",
   "metadata": {},
   "outputs": [
    {
     "ename": "TypeError",
     "evalue": "'property' object is not callable",
     "output_type": "error",
     "traceback": [
      "\u001b[31m---------------------------------------------------------------------------\u001b[39m",
      "\u001b[31mTypeError\u001b[39m                                 Traceback (most recent call last)",
      "\u001b[36mCell\u001b[39m\u001b[36m \u001b[39m\u001b[32mIn[2]\u001b[39m\u001b[32m, line 2\u001b[39m\n\u001b[32m      1\u001b[39m \u001b[38;5;66;03m# Exercise\u001b[39;00m\n\u001b[32m----> \u001b[39m\u001b[32m2\u001b[39m \u001b[38;5;28;43;01mclass\u001b[39;49;00m\u001b[38;5;250;43m \u001b[39;49m\u001b[34;43;01mEmployee\u001b[39;49;00m\u001b[43m:\u001b[49m\n\u001b[32m      3\u001b[39m \u001b[43m    \u001b[49m\u001b[38;5;28;43;01mdef\u001b[39;49;00m\u001b[38;5;250;43m \u001b[39;49m\u001b[34;43m__init__\u001b[39;49m\u001b[43m(\u001b[49m\u001b[38;5;28;43mself\u001b[39;49m\u001b[43m,\u001b[49m\u001b[43m \u001b[49m\u001b[43mname\u001b[49m\u001b[43m,\u001b[49m\u001b[43m \u001b[49m\u001b[43msocial_sec_nr\u001b[49m\u001b[43m,\u001b[49m\u001b[43m \u001b[49m\u001b[43msalary\u001b[49m\u001b[43m,\u001b[49m\u001b[43m \u001b[49m\u001b[43mrole\u001b[49m\u001b[43m,\u001b[49m\u001b[43m \u001b[49m\u001b[43memployment_year\u001b[49m\u001b[43m)\u001b[49m\u001b[43m:\u001b[49m\u001b[43m  \u001b[49m\n\u001b[32m      4\u001b[39m \u001b[43m        \u001b[49m\u001b[38;5;28;43mself\u001b[39;49m\u001b[43m.\u001b[49m\u001b[43mname\u001b[49m\u001b[43m \u001b[49m\u001b[43m=\u001b[49m\u001b[43m \u001b[49m\u001b[43mname\u001b[49m\n",
      "\u001b[36mCell\u001b[39m\u001b[36m \u001b[39m\u001b[32mIn[2]\u001b[39m\u001b[32m, line 18\u001b[39m, in \u001b[36mEmployee\u001b[39m\u001b[34m()\u001b[39m\n\u001b[32m     15\u001b[39m     \u001b[38;5;28mprint\u001b[39m(\u001b[33m\"\u001b[39m\u001b[33mage getter called\u001b[39m\u001b[33m\"\u001b[39m)\n\u001b[32m     16\u001b[39m     \u001b[38;5;28;01mreturn\u001b[39;00m \u001b[38;5;28mself\u001b[39m.salary\n\u001b[32m---> \u001b[39m\u001b[32m18\u001b[39m \u001b[43m\u001b[49m\u001b[38;5;129;43m@salary\u001b[39;49m\n\u001b[32m     19\u001b[39m \u001b[43m\u001b[49m\u001b[38;5;28;43;01mdef\u001b[39;49;00m\u001b[38;5;250;43m \u001b[39;49m\u001b[34;43msalary\u001b[39;49m\u001b[43m(\u001b[49m\u001b[38;5;28;43mself\u001b[39;49m\u001b[43m,\u001b[49m\u001b[43m \u001b[49m\u001b[43mvalue\u001b[49m\u001b[43m)\u001b[49m\u001b[43m:\u001b[49m\n\u001b[32m     20\u001b[39m \u001b[43m    \u001b[49m\u001b[38;5;28;43mprint\u001b[39;49m\u001b[43m(\u001b[49m\u001b[33;43m\"\u001b[39;49m\u001b[33;43mage setter called\u001b[39;49m\u001b[33;43m\"\u001b[39;49m\u001b[43m)\u001b[49m\u001b[43m \u001b[49m\n\u001b[32m     22\u001b[39m \u001b[43m    \u001b[49m\u001b[38;5;28;43;01mif\u001b[39;49;00m\u001b[43m \u001b[49m\u001b[32;43m0\u001b[39;49m\u001b[43m \u001b[49m\u001b[43m<\u001b[49m\u001b[43m=\u001b[49m\u001b[43m \u001b[49m\u001b[43mvalue\u001b[49m\u001b[43m \u001b[49m\u001b[43m<\u001b[49m\u001b[43m \u001b[49m\u001b[32;43m18000\u001b[39;49m\u001b[43m:\u001b[49m\u001b[43m      \u001b[49m\u001b[38;5;66;43;03m# validering of minimum salary company policy\u001b[39;49;00m\n",
      "\u001b[31mTypeError\u001b[39m: 'property' object is not callable"
     ]
    }
   ],
   "source": [
    "# Exercise\n",
    "class Employee:\n",
    "    def __init__(self, name, social_sec_nr, salary, role, employment_year):  \n",
    "        self.name = name\n",
    "        self._social_sec_nr = social_sec_nr \n",
    "        self.role = role\n",
    "        self.employment_year = employment_year\n",
    "\n",
    "        self.salary = salary\n",
    "        if salary <= 0:\n",
    "            raise ValueError(\"Invalid data\")\n",
    "        \n",
    "    @property\n",
    "    def salary(self, value):\n",
    "        print(\"age getter called\")\n",
    "        return self.salary\n",
    "\n",
    "    @salary\n",
    "    def salary(self, value):\n",
    "        print(\"age setter called\") \n",
    "\n",
    "        if 0 <= value < 18000:      # validering of minimum salary company policy\n",
    "            raise ValueError(f\"Minimum salary is 18 000sek\")  \n",
    "\n",
    "# to check for the correction from Kokchun\n"
   ]
  },
  {
   "cell_type": "code",
   "execution_count": null,
   "id": "3dc63f01",
   "metadata": {},
   "outputs": [
    {
     "name": "stdout",
     "output_type": "stream",
     "text": [
      "Salary can't be negative, you inputted -20000\n"
     ]
    }
   ],
   "source": [
    "class Employee:\n",
    "    \"\"\"\n",
    "A class to hold employee information\n",
    "\n",
    "Attributes:\n",
    "- name (str): name of the person\n",
    "- salary (int): in sek, must be greater than 0\n",
    "\n",
    "Methods:\n",
    "- increase_salary(value): increase the salary with value in sek\n",
    "\n",
    "Example usage:\n",
    "- e1\n",
    "- e1.increase_salary(5000)\n",
    "etc..\n",
    "    \"\"\"\n",
    "    def __init__(\n",
    "            self, \n",
    "            name: str,\n",
    "            social_security_nr: int,\n",
    "            salary: int,\n",
    "            role: str,\n",
    "            employment_year: int,\n",
    "    ):\n",
    "        \n",
    "        self.name = name\n",
    "        self._social_security_nr = social_security_nr\n",
    "        self.salary = salary\n",
    "        self.role = role\n",
    "        self.employment_year = employment_year\n",
    "\n",
    "    @property\n",
    "    def salary(self):\n",
    "        # return the private backing variable\n",
    "        return self._salary\n",
    "    \n",
    "    @salary.setter\n",
    "    def salary(self, value):\n",
    "        if value <= 0:\n",
    "            raise ValueError(f\"Salary can't be negative, you inputted {value}\")\n",
    "        self._salary = value\n",
    "\n",
    "    def increase_salary(self, value):\n",
    "        self.salary += value\n",
    "\n",
    "    def __repr__(self):\n",
    "        return f\"Employee({self.name}, {self._social_security_nr}, {self.salary}, {self.role}, {self.employment_year})\"\n",
    "\n",
    "e1 = Employee(\"Gabi\", 199002014674, 25000, \"Säljare\", 2024)\n",
    "\n",
    "e1.increase_salary(5000)\n",
    "\n",
    "try:\n",
    "    e2 = Employee(\"didi\", 197902014674, -20000, \"Säljare\", 2023)\n",
    "except ValueError as err:\n",
    "    print(err)\n"
   ]
  },
  {
   "cell_type": "code",
   "execution_count": 12,
   "id": "b54abe55",
   "metadata": {},
   "outputs": [
    {
     "name": "stdout",
     "output_type": "stream",
     "text": [
      "Help on class Employee in module __main__:\n",
      "\n",
      "class Employee(builtins.object)\n",
      " |  Employee(name: str, social_security_nr: int, salary: int, role: str, employment_year: int)\n",
      " |\n",
      " |  A class to hold employee information\n",
      " |\n",
      " |  Attributes:\n",
      " |  - name (str): name of the person\n",
      " |  - salary (int): in sek, must be greater than 0\n",
      " |\n",
      " |  Methods:\n",
      " |  - increase_salary(value): increase the salary with value in sek\n",
      " |\n",
      " |  Example usage:\n",
      " |  - e1\n",
      " |  - e1.increase_salary(5000)\n",
      " |  etc..\n",
      " |\n",
      " |  Methods defined here:\n",
      " |\n",
      " |  __init__(self, name: str, social_security_nr: int, salary: int, role: str, employment_year: int)\n",
      " |      Initialize self.  See help(type(self)) for accurate signature.\n",
      " |\n",
      " |  __repr__(self)\n",
      " |      Return repr(self).\n",
      " |\n",
      " |  increase_salary(self, value)\n",
      " |\n",
      " |  ----------------------------------------------------------------------\n",
      " |  Data descriptors defined here:\n",
      " |\n",
      " |  __dict__\n",
      " |      dictionary for instance variables\n",
      " |\n",
      " |  __weakref__\n",
      " |      list of weak references to the object\n",
      " |\n",
      " |  salary\n",
      "\n"
     ]
    }
   ],
   "source": [
    "help(Employee)"
   ]
  }
 ],
 "metadata": {
  "kernelspec": {
   "display_name": "Python 3",
   "language": "python",
   "name": "python3"
  },
  "language_info": {
   "codemirror_mode": {
    "name": "ipython",
    "version": 3
   },
   "file_extension": ".py",
   "mimetype": "text/x-python",
   "name": "python",
   "nbconvert_exporter": "python",
   "pygments_lexer": "ipython3",
   "version": "3.12.10"
  }
 },
 "nbformat": 4,
 "nbformat_minor": 5
}
