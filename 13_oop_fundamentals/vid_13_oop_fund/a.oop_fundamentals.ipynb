{
 "cells": [
  {
   "cell_type": "markdown",
   "id": "3e616394",
   "metadata": {},
   "source": [
    "#VID OOP FUNDAMENTALS"
   ]
  },
  {
   "cell_type": "code",
   "execution_count": 2,
   "id": "777a040e",
   "metadata": {},
   "outputs": [
    {
     "data": {
      "text/plain": [
       "<__main__.Admission at 0x24847454620>"
      ]
     },
     "execution_count": 2,
     "metadata": {},
     "output_type": "execute_result"
    }
   ],
   "source": [
    "class Admission:\n",
    "    def __init__(self, school, program, name, accept): #<--- Initializing \n",
    "        self.school = school\n",
    "        self.program = program\n",
    "        self.name = name\n",
    "        self.accept = accept\n",
    "\n",
    "person1 = Admission(\"cool school\", \"AI\", accept = True, name = \"Edith\")\n",
    "person1\n",
    "# result means that the intance person1 is created at the memory address 0x...\n"
   ]
  },
  {
   "cell_type": "code",
   "execution_count": 4,
   "id": "3832ca78",
   "metadata": {},
   "outputs": [
    {
     "data": {
      "text/plain": [
       "('cool school', 'Edith')"
      ]
     },
     "execution_count": 4,
     "metadata": {},
     "output_type": "execute_result"
    }
   ],
   "source": [
    "person1.school, person1.name"
   ]
  },
  {
   "cell_type": "code",
   "execution_count": 8,
   "id": "cda50263",
   "metadata": {},
   "outputs": [
    {
     "data": {
      "text/plain": [
       "'Gabi'"
      ]
     },
     "execution_count": 8,
     "metadata": {},
     "output_type": "execute_result"
    }
   ],
   "source": [
    "# Can change the attribute value ont he fly\n",
    "person1.name = \"Gabi\"\n",
    "person1.name"
   ]
  },
  {
   "cell_type": "code",
   "execution_count": 11,
   "id": "d530fb79",
   "metadata": {},
   "outputs": [
    {
     "data": {
      "text/plain": [
       "('Data engineer', 'AI')"
      ]
     },
     "execution_count": 11,
     "metadata": {},
     "output_type": "execute_result"
    }
   ],
   "source": [
    "person2 = Admission(\"Cooler school\", \"Data engineer\", accept = False, name = \"Alex\")\n",
    "person2.program, person1.program"
   ]
  },
  {
   "cell_type": "code",
   "execution_count": 13,
   "id": "07e7efb2",
   "metadata": {},
   "outputs": [
    {
     "data": {
      "text/plain": [
       "False"
      ]
     },
     "execution_count": 13,
     "metadata": {},
     "output_type": "execute_result"
    }
   ],
   "source": [
    "person1 == person2\n",
    "# Result is False, meaning they are not the same"
   ]
  },
  {
   "cell_type": "code",
   "execution_count": 16,
   "id": "a3cd017a",
   "metadata": {},
   "outputs": [
    {
     "data": {
      "text/plain": [
       "('0x24847454620', '0x2484786caa0')"
      ]
     },
     "execution_count": 16,
     "metadata": {},
     "output_type": "execute_result"
    }
   ],
   "source": [
    "# to check the memory ids\n",
    "hex(id(person1)), hex(id(person2))\n",
    "# Memo address are diff, so person1 and person2 are diff instances"
   ]
  },
  {
   "cell_type": "code",
   "execution_count": 20,
   "id": "66c39bb5",
   "metadata": {},
   "outputs": [
    {
     "data": {
      "text/plain": [
       "Admission(school = 'Cool school', program='Java', name = 'Victor Freeze', accept = True)"
      ]
     },
     "execution_count": 20,
     "metadata": {},
     "output_type": "execute_result"
    }
   ],
   "source": [
    "#Dunder repr as __repr__ AND __str__ us to print out for end user\n",
    "# Use to represent the instance, help othe rdev to create objetcs by giving them info\n",
    "\n",
    "class Admission:\n",
    "    def __init__(self, school, program, name, accept): \n",
    "        self.school = school\n",
    "        self.program = program\n",
    "        self.name = name\n",
    "        self.accept = accept\n",
    "# From this class, the blueprint, we can instantiate several instances\n",
    "\n",
    "    def __str__(self):\n",
    "        return f\"{self.name} has applied to {self.program}, accepted:{self.accept}\"\n",
    "\n",
    "\n",
    "    def __repr__(self): \n",
    "        return f\"Admission(school = '{self.school}', program='{self.program}', name = '{self.name}', accept = {self.accept})\"\n",
    "        \n",
    "\n",
    "student = Admission(\"Cool school\", \"Java\", \"Victor Freeze\", True)\n",
    "student\n",
    "# Result will be shown as per  __repr__ \n",
    "# When I did the same at the top, only got the memory address"
   ]
  },
  {
   "cell_type": "code",
   "execution_count": 23,
   "id": "f8a43848",
   "metadata": {},
   "outputs": [
    {
     "name": "stdout",
     "output_type": "stream",
     "text": [
      "Admission(school = 'Cool school', program='Java', name = 'Victor Freeze', accept = True)\n"
     ]
    }
   ],
   "source": [
    "# When I print student, same result as per __repr__\n",
    "print(student)\n",
    "# It happens because when I print syst looks for __str__ but if there is none,\n",
    "# syst goes for __repr__\n",
    "\n",
    "# After that in the vid, Kokchun creates a __str__ which does that the result becomes the one below, meaning that syst looks for __str__ first\n",
    "# and if does not exist, it goes for __repr__"
   ]
  },
  {
   "cell_type": "code",
   "execution_count": 24,
   "id": "6686610f",
   "metadata": {},
   "outputs": [
    {
     "data": {
      "text/plain": [
       "\"Admission(school = 'Cool school', program='Java', name = 'Victor Freeze', accept = True)\""
      ]
     },
     "execution_count": 24,
     "metadata": {},
     "output_type": "execute_result"
    }
   ],
   "source": [
    "str(student)\n",
    "# Can also be done to see the __str__"
   ]
  }
 ],
 "metadata": {
  "kernelspec": {
   "display_name": "python_christophe-giraud_DE25",
   "language": "python",
   "name": "python3"
  },
  "language_info": {
   "codemirror_mode": {
    "name": "ipython",
    "version": 3
   },
   "file_extension": ".py",
   "mimetype": "text/x-python",
   "name": "python",
   "nbconvert_exporter": "python",
   "pygments_lexer": "ipython3",
   "version": "3.12.10"
  }
 },
 "nbformat": 4,
 "nbformat_minor": 5
}
