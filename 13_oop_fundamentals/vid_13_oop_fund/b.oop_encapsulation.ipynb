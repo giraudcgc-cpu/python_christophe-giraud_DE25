{
 "cells": [
  {
   "cell_type": "markdown",
   "id": "cc63be31",
   "metadata": {},
   "source": [
    "ENCAPSULATION"
   ]
  },
  {
   "cell_type": "code",
   "execution_count": null,
   "id": "8a6ca3f5",
   "metadata": {},
   "outputs": [
    {
     "data": {
      "text/plain": [
       "Patient(Hibernatus)"
      ]
     },
     "execution_count": 5,
     "metadata": {},
     "output_type": "execute_result"
    }
   ],
   "source": [
    "class Patient:\n",
    "    def __init__(self, name, diagnosis):\n",
    "        self._name = name\n",
    "\n",
    "    def __repr__(self):\n",
    "        return f\"Patient({self._name})\"\n",
    "\n",
    "patient1 = Patient(\"Hibernatus\", \"cold\")\n",
    "patient1\n",
    "# result will be Patient(Hibernatus) thks to the __repr__ which defines the dunder name _name"
   ]
  },
  {
   "cell_type": "code",
   "execution_count": null,
   "id": "ea79c257",
   "metadata": {},
   "outputs": [
    {
     "ename": "AttributeError",
     "evalue": "'Patient' object has no attribute 'name'",
     "output_type": "error",
     "traceback": [
      "\u001b[31m---------------------------------------------------------------------------\u001b[39m",
      "\u001b[31mAttributeError\u001b[39m                            Traceback (most recent call last)",
      "\u001b[36mCell\u001b[39m\u001b[36m \u001b[39m\u001b[32mIn[7]\u001b[39m\u001b[32m, line 1\u001b[39m\n\u001b[32m----> \u001b[39m\u001b[32m1\u001b[39m \u001b[43mpatient1\u001b[49m\u001b[43m.\u001b[49m\u001b[43mname\u001b[49m\n\u001b[32m      2\u001b[39m \u001b[38;5;66;03m# if I print patient1 it won't work\u001b[39;00m\n",
      "\u001b[31mAttributeError\u001b[39m: 'Patient' object has no attribute 'name'"
     ]
    }
   ],
   "source": [
    "patient1.name\n",
    "# if I print patient1 it won't work becase sa such, .name is not defined"
   ]
  },
  {
   "cell_type": "code",
   "execution_count": 8,
   "id": "f779cf7a",
   "metadata": {},
   "outputs": [
    {
     "data": {
      "text/plain": [
       "'Hibernatus'"
      ]
     },
     "execution_count": 8,
     "metadata": {},
     "output_type": "execute_result"
    }
   ],
   "source": [
    "# if I do ._name it does\n",
    "patient1._name"
   ]
  },
  {
   "cell_type": "code",
   "execution_count": 10,
   "id": "610648db",
   "metadata": {},
   "outputs": [
    {
     "data": {
      "text/plain": [
       "Patient(Hindi)"
      ]
     },
     "execution_count": 10,
     "metadata": {},
     "output_type": "execute_result"
    }
   ],
   "source": [
    "# tough it is possible to change it - we should not access attributes private by convention\n",
    "patient1._name = \"Hindi\"\n",
    "patient1"
   ]
  },
  {
   "cell_type": "code",
   "execution_count": 21,
   "id": "b4f531fa",
   "metadata": {},
   "outputs": [],
   "source": [
    "class Patient:\n",
    "    def __init__(self, name, diagnosis):\n",
    "        self._name = name\n",
    "        self._diagnosis = diagnosis\n",
    "\n",
    "    def __repr__(self):\n",
    "        return f\"Patient({self._name}, {self._diagnosis})\""
   ]
  },
  {
   "cell_type": "code",
   "execution_count": 22,
   "id": "a0a01de9",
   "metadata": {},
   "outputs": [
    {
     "data": {
      "text/plain": [
       "Patient(Anna, headache)"
      ]
     },
     "execution_count": 22,
     "metadata": {},
     "output_type": "execute_result"
    }
   ],
   "source": [
    "patient2 = Patient(\"Anna\", \"headache\")\n",
    "patient2\n",
    "# No pb here, we get the expected results because we are inside the class"
   ]
  },
  {
   "cell_type": "code",
   "execution_count": null,
   "id": "616b5a09",
   "metadata": {},
   "outputs": [
    {
     "data": {
      "text/plain": [
       "'headache'"
      ]
     },
     "execution_count": 23,
     "metadata": {},
     "output_type": "execute_result"
    }
   ],
   "source": [
    "# However when I want to access it from outside:\n",
    "patient2._diagnosis\n",
    "##### It should not work here!!!!! to check at school"
   ]
  },
  {
   "cell_type": "code",
   "execution_count": null,
   "id": "f20880bd",
   "metadata": {},
   "outputs": [
    {
     "data": {
      "text/plain": [
       "{'_name': 'Anna', '_diagnosis': 'headache'}"
      ]
     },
     "execution_count": 24,
     "metadata": {},
     "output_type": "execute_result"
    }
   ],
   "source": [
    "# but with this you can get all the dict of an instance\n",
    "patient2.__dict__"
   ]
  },
  {
   "cell_type": "code",
   "execution_count": null,
   "id": "749e124e",
   "metadata": {},
   "outputs": [
    {
     "ename": "AttributeError",
     "evalue": "'Patient' object has no attribute '_Patient__diagnosis'",
     "output_type": "error",
     "traceback": [
      "\u001b[31m---------------------------------------------------------------------------\u001b[39m",
      "\u001b[31mAttributeError\u001b[39m                            Traceback (most recent call last)",
      "\u001b[36mCell\u001b[39m\u001b[36m \u001b[39m\u001b[32mIn[25]\u001b[39m\u001b[32m, line 2\u001b[39m\n\u001b[32m      1\u001b[39m \u001b[38;5;66;03m# other way:\u001b[39;00m\n\u001b[32m----> \u001b[39m\u001b[32m2\u001b[39m \u001b[43mpatient2\u001b[49m\u001b[43m.\u001b[49m\u001b[43m_Patient__diagnosis\u001b[49m\n",
      "\u001b[31mAttributeError\u001b[39m: 'Patient' object has no attribute '_Patient__diagnosis'"
     ]
    }
   ],
   "source": [
    "# other way:\n",
    "patient2._Patient__diagnosis\n",
    "#### it should work here !!!!"
   ]
  },
  {
   "cell_type": "code",
   "execution_count": 65,
   "id": "fda72792",
   "metadata": {},
   "outputs": [
    {
     "data": {
      "text/plain": [
       "OldCoinStach(owner = 'Ragnar')"
      ]
     },
     "execution_count": 65,
     "metadata": {},
     "output_type": "execute_result"
    }
   ],
   "source": [
    "class OldCoinStash:\n",
    "    def __init__(self, owner):\n",
    "        self.owner = owner\n",
    "\n",
    "        self._riksdaler = 0\n",
    "        self._skilling = 0\n",
    "\n",
    "    def deposit(self, riksdaler, skilling):\n",
    "        if riksdaler < 0 or skilling < 0:     # we had a validation condition\n",
    "            raise ValueError(f\"You try to deposit {riksdaler} riksdaler and {skilling} skilling. They have to be positive\")\n",
    "        self._riksdaler += riksdaler\n",
    "        self._skilling += skilling\n",
    "    \n",
    "    def withdraw(self, riksdaler, skilling):\n",
    "        if riksdaler > self._riksdaler or skilling > self._skiling:\n",
    "            raise ValueError(f\"You can't withdraw more than you have in your stash\")\n",
    "\n",
    "        self._riksdaler -= riskdaler\n",
    "        self._skilling -= skilling\n",
    "\n",
    "    def check_balance(self):\n",
    "        return f\"Coins in stash: {self._riksdaler} riksdaler, {self._skilling} skilling\"\n",
    "\n",
    "    def __repr__(self):\n",
    "        return f\"OldCoinStach(owner = '{self.owner}')\"\n",
    "\n",
    "stash1 = OldCoinStash(\"Ragnar\")       \n",
    "stash1\n"
   ]
  },
  {
   "cell_type": "code",
   "execution_count": 54,
   "id": "df0d593e",
   "metadata": {},
   "outputs": [
    {
     "name": "stdout",
     "output_type": "stream",
     "text": [
      "You try to deposit -5 riksdaler and 2 skilling. They have to be positive\n"
     ]
    }
   ],
   "source": [
    "try:\n",
    "    stash1.deposit(-5, 2)\n",
    "except ValueError as e:\n",
    "    print(e)"
   ]
  },
  {
   "cell_type": "code",
   "execution_count": null,
   "id": "e98f1e43",
   "metadata": {},
   "outputs": [],
   "source": [
    "stash1.deposit(0, 2)\n",
    "# it works"
   ]
  },
  {
   "cell_type": "code",
   "execution_count": 66,
   "id": "20146fc5",
   "metadata": {},
   "outputs": [
    {
     "data": {
      "text/plain": [
       "'Coins in stash: 10 riksdaler, 0 skilling'"
      ]
     },
     "execution_count": 66,
     "metadata": {},
     "output_type": "execute_result"
    }
   ],
   "source": [
    "stash1.deposit(10,0)\n",
    "stash1.check_balance()"
   ]
  }
 ],
 "metadata": {
  "kernelspec": {
   "display_name": "python_christophe-giraud_DE25",
   "language": "python",
   "name": "python3"
  },
  "language_info": {
   "codemirror_mode": {
    "name": "ipython",
    "version": 3
   },
   "file_extension": ".py",
   "mimetype": "text/x-python",
   "name": "python",
   "nbconvert_exporter": "python",
   "pygments_lexer": "ipython3",
   "version": "3.12.10"
  }
 },
 "nbformat": 4,
 "nbformat_minor": 5
}
