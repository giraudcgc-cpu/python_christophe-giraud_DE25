{
 "cells": [
  {
   "cell_type": "markdown",
   "id": "f85019fd",
   "metadata": {},
   "source": [
    "Doctest or _doctest (diff toc heck again)\n",
    "\n",
    "Here I shold paste a code with docstring that I got from a LLM aftercreating a class of my choice.\n",
    "After the code I need to write: \n",
    "__name__ == '__main__':\n",
    "    doctest.testmod(verbose=True) and run it.\n",
    "See vid at 11min\n",
    "\n"
   ]
  },
  {
   "cell_type": "code",
   "execution_count": null,
   "id": "7a3e19ae",
   "metadata": {},
   "outputs": [],
   "source": [
    "import doctest"
   ]
  }
 ],
 "metadata": {
  "kernelspec": {
   "display_name": "python_christophe-giraud_DE25",
   "language": "python",
   "name": "python3"
  },
  "language_info": {
   "name": "python",
   "version": "3.12.10"
  }
 },
 "nbformat": 4,
 "nbformat_minor": 5
}
