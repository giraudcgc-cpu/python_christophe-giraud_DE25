{
 "cells": [
  {
   "cell_type": "markdown",
   "id": "dd3aa05f",
   "metadata": {},
   "source": [
    "# Error handling\n"
   ]
  },
  {
   "cell_type": "markdown",
   "id": "315d5da4",
   "metadata": {},
   "source": [
    "Error handling: <br>\n",
    "- By adding error handling blocks of code that can encounter errors\n",
    "- We don't want the code to crash\n",
    "- Using try and excep blocks"
   ]
  },
  {
   "cell_type": "code",
   "execution_count": 1,
   "id": "4ef57864",
   "metadata": {},
   "outputs": [
    {
     "ename": "NameError",
     "evalue": "name 'x' is not defined",
     "output_type": "error",
     "traceback": [
      "\u001b[31m---------------------------------------------------------------------------\u001b[39m",
      "\u001b[31mNameError\u001b[39m                                 Traceback (most recent call last)",
      "\u001b[36mCell\u001b[39m\u001b[36m \u001b[39m\u001b[32mIn[1]\u001b[39m\u001b[32m, line 2\u001b[39m\n\u001b[32m      1\u001b[39m \u001b[38;5;66;03m# Without handlong error the code will crash\u001b[39;00m\n\u001b[32m----> \u001b[39m\u001b[32m2\u001b[39m \u001b[38;5;28mprint\u001b[39m(\u001b[43mx\u001b[49m)\n",
      "\u001b[31mNameError\u001b[39m: name 'x' is not defined"
     ]
    }
   ],
   "source": [
    "# Without handlong error the code will crash\n",
    "print(x)"
   ]
  },
  {
   "cell_type": "code",
   "execution_count": 1,
   "id": "e08c6a6e",
   "metadata": {},
   "outputs": [
    {
     "name": "stdout",
     "output_type": "stream",
     "text": [
      "There is an error in the try block\n"
     ]
    }
   ],
   "source": [
    "# Add try except to the code\n",
    "try:\n",
    "    # under the try block, put the potentially problematic block of codes\n",
    "    print(x)\n",
    "except:\n",
    "    # when the try block encouters errors, runs the except block of code without crashing\n",
    "    print(\"There is an error in the try block\")"
   ]
  },
  {
   "cell_type": "code",
   "execution_count": 6,
   "id": "eeec2b65",
   "metadata": {},
   "outputs": [
    {
     "name": "stdout",
     "output_type": "stream",
     "text": [
      "Variable x is not defined yet\n"
     ]
    }
   ],
   "source": [
    "# Make use of multiple except blocks\n",
    "\n",
    "try:\n",
    "    print(x)\n",
    "except NameError:\n",
    "    print(\"Variable x is not defined yet\")\n",
    "except: \n",
    "    print(\"Some other errors happen\")\n"
   ]
  },
  {
   "cell_type": "code",
   "execution_count": 2,
   "id": "ddc6b0dc",
   "metadata": {},
   "outputs": [
    {
     "name": "stdout",
     "output_type": "stream",
     "text": [
      "There is an error that is not NameError\n"
     ]
    }
   ],
   "source": [
    "# Another ex\n",
    "try:\n",
    "    print(8/0)                                          # <--- will not work, cannot divide by 0\n",
    "except NameError: \n",
    "    print(\"This is a NameError\")\n",
    "except:\n",
    "    print(\"There is an error that is not NameError\")    # <--- Pyton understands that the division is not a NameError so it jumps to the 2nd except"
   ]
  },
  {
   "cell_type": "code",
   "execution_count": 3,
   "id": "092d1a42",
   "metadata": {},
   "outputs": [
    {
     "name": "stdout",
     "output_type": "stream",
     "text": [
      "name 'x' is not defined\n"
     ]
    }
   ],
   "source": [
    "# make use of error message\n",
    "\n",
    "try:\n",
    "    print(x)\n",
    "except NameError as err:        # <--- By using err, I use the Python error message coming with this type of error\n",
    "    print(err)\n",
    "\n",
    "except:\n",
    "    print(\"Something else\")"
   ]
  }
 ],
 "metadata": {
  "kernelspec": {
   "display_name": "python_christophe-giraud_DE25",
   "language": "python",
   "name": "python3"
  },
  "language_info": {
   "codemirror_mode": {
    "name": "ipython",
    "version": 3
   },
   "file_extension": ".py",
   "mimetype": "text/x-python",
   "name": "python",
   "nbconvert_exporter": "python",
   "pygments_lexer": "ipython3",
   "version": "3.12.10"
  }
 },
 "nbformat": 4,
 "nbformat_minor": 5
}
