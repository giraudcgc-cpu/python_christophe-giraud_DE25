{
 "cells": [
  {
   "cell_type": "markdown",
   "id": "89948741",
   "metadata": {},
   "source": [
    "# 1. Portfolio repo\n",
    "\n",
    "Done!"
   ]
  },
  {
   "cell_type": "markdown",
   "id": "fc4ac0a1",
   "metadata": {},
   "source": [
    "# 2. Theoretical exercises\n",
    "\n",
    "a) What is the difference between git and github? <br>\n",
    "git is local <br>\n",
    "github is remote\n",
    "\n",
    "b) What is the purpose of .gitignore file? <br> \n",
    "It helps to avoid to track all changes in Git meaning that files won't be added to the repository during commits.\n",
    "\n",
    "c) Why is it a good idea to work with git and github? <br>\n",
    "git is the control version while github is more to help collaboration."
   ]
  },
  {
   "cell_type": "markdown",
   "id": "5ebc5e06",
   "metadata": {},
   "source": [
    "# Glossary\n",
    "\n",
    "git\t\n",
    "github\t\n",
    "version control\t\n",
    "backup\t\n",
    "gitignore\t\n",
    "commit\t\n",
    "pull\t* to remember git pull\n",
    "clone\t\n",
    "cd\t    = change directory\n",
    "ls\t    = list\n",
    "cd ..   = to go to the oarent folder\n",
    "mkdir   = to create a folder from gitbash or from the Terminal or from powershell"
   ]
  }
 ],
 "metadata": {
  "kernelspec": {
   "display_name": "python_christophe-giraud_DE25",
   "language": "python",
   "name": "python3"
  },
  "language_info": {
   "name": "python",
   "version": "3.12.10"
  }
 },
 "nbformat": 4,
 "nbformat_minor": 5
}
