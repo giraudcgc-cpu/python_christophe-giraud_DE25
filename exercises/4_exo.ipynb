{
 "cells": [
  {
   "cell_type": "markdown",
   "id": "ca9b025f",
   "metadata": {},
   "source": [
    "# Exercises 4"
   ]
  },
  {
   "cell_type": "markdown",
   "id": "df972cef",
   "metadata": {},
   "source": [
    "## 0. Counting words"
   ]
  },
  {
   "cell_type": "code",
   "execution_count": 7,
   "id": "01b5c243",
   "metadata": {},
   "outputs": [
    {
     "name": "stdout",
     "output_type": "stream",
     "text": [
      "17\n"
     ]
    }
   ],
   "source": [
    "# Count the number of words in: \"A picture says more than a thousand words, a matematical formula says more than a thousand pictures.\"\n",
    "sentence = \"A picture says more than a thousand words, a matematical formula says more than a thousand pictures\"\n",
    "word_count = len(sentence.split())\n",
    "print(word_count)\n",
    "\n",
    "# The split() method divides the sentence into a list of words based on whitespace\n",
    "# The len() function is used to calculate the total number of words in the list"
   ]
  },
  {
   "cell_type": "markdown",
   "id": "93c73cde",
   "metadata": {},
   "source": [
    "## 1. Counting letters\n",
    "\n",
    "Let the user input a word:<br>\n",
    "a) print out the number of letters in the word. <br>\n",
    "b) print out the number of uppercase and lowercase letters of the word <br>\n",
    "\n",
    "\n"
   ]
  },
  {
   "cell_type": "code",
   "execution_count": 11,
   "id": "d102b295",
   "metadata": {},
   "outputs": [
    {
     "name": "stdout",
     "output_type": "stream",
     "text": [
      "The word  contains 0 letters\n",
      "They are 0 uppercase(s) and 0 lowercase(s) in \n"
     ]
    }
   ],
   "source": [
    "word_input = input(\"Enter a word\")\n",
    "word_length = len(word_input)\n",
    "\n",
    "upper_count, lowwer_count = 0,0\n",
    "for letter in word_input:\n",
    "    if letter.isupper():\n",
    "        upper_count +=1\n",
    "    elif letter.islower():\n",
    "        lowwer_count +=1\n",
    "\n",
    "print(f\"The word {word_input} contains {word_length} letters\")\n",
    "print(f\"They are {upper_count} uppercase(s) and {lowwer_count} lowercase(s) in {word_input}\")"
   ]
  },
  {
   "cell_type": "markdown",
   "id": "50b32753",
   "metadata": {},
   "source": [
    "## 2. Palindrome"
   ]
  },
  {
   "cell_type": "code",
   "execution_count": null,
   "id": "00ef0119",
   "metadata": {},
   "outputs": [
    {
     "ename": "SyntaxError",
     "evalue": "'continue' not properly in loop (1051311989.py, line 6)",
     "output_type": "error",
     "traceback": [
      "  \u001b[36mCell\u001b[39m\u001b[36m \u001b[39m\u001b[32mIn[19]\u001b[39m\u001b[32m, line 6\u001b[39m\n\u001b[31m    \u001b[39m\u001b[31mcontinue\u001b[39m\n    ^\n\u001b[31mSyntaxError\u001b[39m\u001b[31m:\u001b[39m 'continue' not properly in loop\n"
     ]
    }
   ],
   "source": [
    "characters = str(input(\"Enter any letters - no numbers please!\"))\n",
    "number = range(0, 1000001)\n",
    "\n",
    "if characters == number:\n",
    "    print(\"Only numbers please\")\n",
    "\n",
    "\n",
    "    \n",
    "\n"
   ]
  }
 ],
 "metadata": {
  "kernelspec": {
   "display_name": "python_christophe-giraud_DE25",
   "language": "python",
   "name": "python3"
  },
  "language_info": {
   "codemirror_mode": {
    "name": "ipython",
    "version": 3
   },
   "file_extension": ".py",
   "mimetype": "text/x-python",
   "name": "python",
   "nbconvert_exporter": "python",
   "pygments_lexer": "ipython3",
   "version": "3.12.10"
  }
 },
 "nbformat": 4,
 "nbformat_minor": 5
}
