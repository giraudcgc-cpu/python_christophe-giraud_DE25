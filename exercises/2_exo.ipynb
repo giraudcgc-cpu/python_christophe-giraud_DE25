{
 "cells": [
  {
   "cell_type": "markdown",
   "id": "bb4b240f",
   "metadata": {},
   "source": [
    "# Exercise 2 - control structures\n"
   ]
  },
  {
   "cell_type": "markdown",
   "id": "5e98250a",
   "metadata": {},
   "source": [
    "0. Check sign (*) <br>\n",
    "Ask the user to input a number and check if this number is positive, negative or zero and print it out.\n",
    "\n"
   ]
  },
  {
   "cell_type": "code",
   "execution_count": 7,
   "id": "9a763714",
   "metadata": {},
   "outputs": [
    {
     "name": "stdout",
     "output_type": "stream",
     "text": [
      "0 is neutral!\n"
     ]
    }
   ],
   "source": [
    "nber = int(input(\"Please enter a number?\"))\n",
    "if nber < 0:\n",
    "    print(f\"{nber} is negative!\")\n",
    "if nber == 0:\n",
    "    print(f\"{nber} is neutral!\")\n",
    "if nber > 0:\n",
    "    print(f\"{nber} is positive!\")"
   ]
  },
  {
   "cell_type": "markdown",
   "id": "c7a6b2e6",
   "metadata": {},
   "source": [
    "1. Smallest (*) <br>\n",
    "Ask the user to input two numbers and check which one is the smallest and print it out.\n",
    "\n",
    "\n"
   ]
  },
  {
   "cell_type": "code",
   "execution_count": 8,
   "id": "a285e6ae",
   "metadata": {},
   "outputs": [
    {
     "name": "stdout",
     "output_type": "stream",
     "text": [
      "The smallest number of the two is 2\n"
     ]
    }
   ],
   "source": [
    "nber = int(input(\"Enter a first number\"))\n",
    "nber2 = int(input(\"Enter a second number\"))\n",
    "smallest = min(nber, nber2)\n",
    "print(f\"The smallest number of the two is {smallest}\")\n"
   ]
  },
  {
   "cell_type": "markdown",
   "id": "89e7dc7f",
   "metadata": {},
   "source": [
    "2. Medicine (*) <br>\n",
    "The information in the following table is stated in a medicine package. Also it is stated that for children weight is more important than age.\n",
    "\n"
   ]
  },
  {
   "cell_type": "code",
   "execution_count": 21,
   "id": "6ff91cea",
   "metadata": {},
   "outputs": [
    {
     "name": "stdout",
     "output_type": "stream",
     "text": [
      "Medecine not recommanded for children under 3 years or weighting less than 15 kg\n"
     ]
    }
   ],
   "source": [
    "patient_age = int(input(\"Enter your age\"))\n",
    "patient_weight = int(input(\"Enter your weight in kg\"))\n",
    "if patient_age > 12 and patient_weight > 40:\n",
    "    print(f\"Teenage or adult patients above 40kg can take 1 to 2 pills a day\")\n",
    "if 7 <= patient_age <= 12 and 26 < patient_weight <= 40:\n",
    "    print(f\"Children of 26-40kg and from 7-12 years old can take half to 1 pill a day max\")\n",
    "if 3 < patient_age < 7 and 15 <patient_weight <= 25:\n",
    "    print(\"Children under 7 years old can take half a pill per day max\")\n",
    "if patient_age < 3 or patient_weight < 15:\n",
    "    print(\"Medecine not recommanded for children under 3 years or weighting less than 15 kg\")\n"
   ]
  },
  {
   "cell_type": "markdown",
   "id": "ca22cd8c",
   "metadata": {},
   "source": [
    "3. Divisible (*) <br>\n",
    "Let the user input a number. Check if the number is <br>\n",
    "\n",
    "even or odd <br>\n",
    "is divisible by 5 <br>\n",
    "is divisble by 5 and odd"
   ]
  },
  {
   "cell_type": "code",
   "execution_count": 29,
   "id": "bb096c3b",
   "metadata": {},
   "outputs": [
    {
     "name": "stdout",
     "output_type": "stream",
     "text": [
      "16 is even!\n"
     ]
    }
   ],
   "source": [
    "nber= int(input(\"Enter a number\"))\n",
    "if nber % 2 == 0:\n",
    "    print(f\"{nber} is even!\")\n",
    "else:\n",
    "    print(f\"{nber} is odd!\")"
   ]
  },
  {
   "cell_type": "markdown",
   "id": "82928e85",
   "metadata": {},
   "source": [
    "4. Luggage size (*) <br>\n",
    "The maximum allowed luggage size for boarding an airplane is:<br>\n",
    "\n",
    "weight: 8kg <br>\n",
    "dimensions: 55x40x23cm (length x width x height) <br>\n",
    "Let the user input weight, length, width and height of the luggage. The program should check if the luggage is allowed or not."
   ]
  },
  {
   "cell_type": "markdown",
   "id": "d042c8cc",
   "metadata": {},
   "source": [
    "5. Count numbers (*) <br>\n",
    "Use a for statement to count from: <br>\n",
    "\n",
    "a)   -10 to 10 with one increment (*) <br>\n",
    "\n",
    "b)   -10 to 10 with two increment (*) <br>"
   ]
  },
  {
   "cell_type": "code",
   "execution_count": 48,
   "id": "c9266806",
   "metadata": {},
   "outputs": [
    {
     "name": "stdout",
     "output_type": "stream",
     "text": [
      "-10,-9,-8,-7,-6,-5,-4,-3,-2,-1,0,1,2,3,4,5,6,7,8,9,10,"
     ]
    }
   ],
   "source": [
    "#a\n",
    "\n",
    "for i in range(-10,11):\n",
    "    print(i, end = \",\")"
   ]
  },
  {
   "cell_type": "code",
   "execution_count": 50,
   "id": "de9d6740",
   "metadata": {},
   "outputs": [
    {
     "name": "stdout",
     "output_type": "stream",
     "text": [
      "-10,-8,-6,-4,-2,0,2,4,6,8,10,"
     ]
    }
   ],
   "source": [
    "#b\n",
    "for i in range(-10,11,2):\n",
    "    print(i, end = \",\")"
   ]
  },
  {
   "cell_type": "markdown",
   "id": "61d45fec",
   "metadata": {},
   "source": [
    "5. Arithmetic sum (*)\n"
   ]
  },
  {
   "cell_type": "code",
   "execution_count": null,
   "id": "3580d8db",
   "metadata": {},
   "outputs": [
    {
     "name": "stdout",
     "output_type": "stream",
     "text": [
      "5050\n"
     ]
    }
   ],
   "source": [
    "# with WHILE\n",
    "sum_ = 0\n",
    "counter = 1\n",
    "while counter <= 100:\n",
    "    sum_ = counter + sum_\n",
    "    counter += 1\n",
    "print(sum_)\n",
    "# need 2 variables***"
   ]
  },
  {
   "cell_type": "code",
   "execution_count": null,
   "id": "2e3d0aa6",
   "metadata": {},
   "outputs": [
    {
     "name": "stdout",
     "output_type": "stream",
     "text": [
      "sum = 5050\n"
     ]
    }
   ],
   "source": [
    "# with FOR\n",
    "sum_ = 0\n",
    "for i in range(101):\n",
    "    sum_ += i\n",
    "print(f\"sum = {sum_}\")"
   ]
  },
  {
   "cell_type": "markdown",
   "id": "0b2ee019",
   "metadata": {},
   "source": [
    "6. Multiplication game (*)\n"
   ]
  },
  {
   "cell_type": "code",
   "execution_count": null,
   "id": "92be31f0",
   "metadata": {},
   "outputs": [],
   "source": [
    "# welcome user\n",
    "# import random \n",
    "# related to video - to check again"
   ]
  }
 ],
 "metadata": {
  "kernelspec": {
   "display_name": "python_christophe-giraud_DE25",
   "language": "python",
   "name": "python3"
  },
  "language_info": {
   "codemirror_mode": {
    "name": "ipython",
    "version": 3
   },
   "file_extension": ".py",
   "mimetype": "text/x-python",
   "name": "python",
   "nbconvert_exporter": "python",
   "pygments_lexer": "ipython3",
   "version": "3.12.10"
  }
 },
 "nbformat": 4,
 "nbformat_minor": 5
}
