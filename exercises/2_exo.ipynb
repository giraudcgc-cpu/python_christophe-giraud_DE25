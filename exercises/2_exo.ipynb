{
 "cells": [
  {
   "cell_type": "markdown",
   "id": "bb4b240f",
   "metadata": {},
   "source": [
    "# Exercise 2 - control structures\n"
   ]
  },
  {
   "cell_type": "markdown",
   "id": "5e98250a",
   "metadata": {},
   "source": [
    "0. Check sign (*) <br>\n",
    "Ask the user to input a number and check if this number is positive, negative or zero and print it out.\n",
    "\n"
   ]
  },
  {
   "cell_type": "code",
   "execution_count": 7,
   "id": "9a763714",
   "metadata": {},
   "outputs": [
    {
     "name": "stdout",
     "output_type": "stream",
     "text": [
      "0 is neutral!\n"
     ]
    }
   ],
   "source": [
    "nber = int(input(\"Please enter a number?\"))\n",
    "if nber < 0:\n",
    "    print(f\"{nber} is negative!\")\n",
    "if nber == 0:\n",
    "    print(f\"{nber} is neutral!\")\n",
    "if nber > 0:\n",
    "    print(f\"{nber} is positive!\")"
   ]
  },
  {
   "cell_type": "markdown",
   "id": "c7a6b2e6",
   "metadata": {},
   "source": [
    "1. Smallest (*) <br>\n",
    "Ask the user to input two numbers and check which one is the smallest and print it out.\n",
    "\n",
    "\n"
   ]
  },
  {
   "cell_type": "code",
   "execution_count": 8,
   "id": "a285e6ae",
   "metadata": {},
   "outputs": [
    {
     "name": "stdout",
     "output_type": "stream",
     "text": [
      "The smallest number of the two is 2\n"
     ]
    }
   ],
   "source": [
    "nber = int(input(\"Enter a first number\"))\n",
    "nber2 = int(input(\"Enter a second number\"))\n",
    "smallest = min(nber, nber2)\n",
    "print(f\"The smallest number of the two is {smallest}\")\n"
   ]
  },
  {
   "cell_type": "markdown",
   "id": "89e7dc7f",
   "metadata": {},
   "source": [
    "2. Medicine (*) <br>\n",
    "The information in the following table is stated in a medicine package. Also it is stated that for children weight is more important than age.\n",
    "\n"
   ]
  },
  {
   "cell_type": "code",
   "execution_count": 21,
   "id": "6ff91cea",
   "metadata": {},
   "outputs": [
    {
     "name": "stdout",
     "output_type": "stream",
     "text": [
      "Medecine not recommanded for children under 3 years or weighting less than 15 kg\n"
     ]
    }
   ],
   "source": [
    "patient_age = int(input(\"Enter your age\"))\n",
    "patient_weight = int(input(\"Enter your weight in kg\"))\n",
    "if patient_age > 12 and patient_weight > 40:\n",
    "    print(f\"Teenage or adult patients above 40kg can take 1 to 2 pills a day\")\n",
    "if 7 <= patient_age <= 12 and 26 < patient_weight <= 40:\n",
    "    print(f\"Children of 26-40kg and from 7-12 years old can take half to 1 pill a day max\")\n",
    "if 3 < patient_age < 7 and 15 <patient_weight <= 25:\n",
    "    print(\"Children under 7 years old can take half a pill per day max\")\n",
    "if patient_age < 3 or patient_weight < 15:\n",
    "    print(\"Medecine not recommanded for children under 3 years or weighting less than 15 kg\")\n"
   ]
  },
  {
   "cell_type": "markdown",
   "id": "ca22cd8c",
   "metadata": {},
   "source": [
    "3. Divisible (*) <br>\n",
    "Let the user input a number. Check if the number is <br>\n",
    "\n",
    "even or odd <br>\n",
    "is divisible by 5 <br>\n",
    "is divisble by 5 and odd"
   ]
  },
  {
   "cell_type": "code",
   "execution_count": 29,
   "id": "bb096c3b",
   "metadata": {},
   "outputs": [
    {
     "name": "stdout",
     "output_type": "stream",
     "text": [
      "16 is even!\n"
     ]
    }
   ],
   "source": [
    "nber= int(input(\"Enter a number\"))\n",
    "if nber % 2 == 0:\n",
    "    print(f\"{nber} is even!\")\n",
    "else:\n",
    "    print(f\"{nber} is odd!\")"
   ]
  },
  {
   "cell_type": "markdown",
   "id": "82928e85",
   "metadata": {},
   "source": [
    "4. Luggage size (*) <br>\n",
    "The maximum allowed luggage size for boarding an airplane is:<br>\n",
    "\n",
    "weight: 8kg <br>\n",
    "dimensions: 55x40x23cm (length x width x height) <br>\n",
    "Let the user input weight, length, width and height of the luggage. The program should check if the luggage is allowed or not."
   ]
  },
  {
   "cell_type": "markdown",
   "id": "d042c8cc",
   "metadata": {},
   "source": [
    "5. Count numbers (*) <br>\n",
    "Use a for statement to count from: <br>\n",
    "\n",
    "a)   -10 to 10 with one increment (*) <br>\n",
    "\n",
    "b)   -10 to 10 with two increment (*) <br>"
   ]
  },
  {
   "cell_type": "code",
   "execution_count": 48,
   "id": "c9266806",
   "metadata": {},
   "outputs": [
    {
     "name": "stdout",
     "output_type": "stream",
     "text": [
      "-10,-9,-8,-7,-6,-5,-4,-3,-2,-1,0,1,2,3,4,5,6,7,8,9,10,"
     ]
    }
   ],
   "source": [
    "#a\n",
    "\n",
    "for i in range(-10,11):\n",
    "    print(i, end = \",\")"
   ]
  },
  {
   "cell_type": "code",
   "execution_count": 50,
   "id": "de9d6740",
   "metadata": {},
   "outputs": [
    {
     "name": "stdout",
     "output_type": "stream",
     "text": [
      "-10,-8,-6,-4,-2,0,2,4,6,8,10,"
     ]
    }
   ],
   "source": [
    "#b\n",
    "for i in range(-10,11,2):\n",
    "    print(i, end = \",\")"
   ]
  },
  {
   "cell_type": "markdown",
   "id": "61d45fec",
   "metadata": {},
   "source": [
    "5. Arithmetic sum (*)\n"
   ]
  },
  {
   "cell_type": "code",
   "execution_count": null,
   "id": "3580d8db",
   "metadata": {},
   "outputs": [
    {
     "name": "stdout",
     "output_type": "stream",
     "text": [
      "5050\n"
     ]
    }
   ],
   "source": [
    "#a with WHILE\n",
    "sum_ = 0\n",
    "counter = 1\n",
    "while counter <= 100:\n",
    "    sum_ = counter + sum_\n",
    "    counter += 1\n",
    "print(sum_)\n",
    "# need 2 variables***"
   ]
  },
  {
   "cell_type": "code",
   "execution_count": null,
   "id": "2e3d0aa6",
   "metadata": {},
   "outputs": [
    {
     "name": "stdout",
     "output_type": "stream",
     "text": [
      "sum = 5050\n"
     ]
    }
   ],
   "source": [
    "#a with FOR\n",
    "sum_ = 0\n",
    "for i in range(101):\n",
    "    sum_ += i\n",
    "print(f\"sum = {sum_}\")"
   ]
  },
  {
   "cell_type": "code",
   "execution_count": 20,
   "id": "17e98585",
   "metadata": {},
   "outputs": [
    {
     "name": "stdout",
     "output_type": "stream",
     "text": [
      "1+3+5+7+9+11+13+15+17+19+21+23+25+27+29+31+33+35+37+39+41+43+45+47+49+51+53+55+57+59+61+63+65+67+69+71+73+75+77+79+81+83+85+87+89+91+93+95+97+99+"
     ]
    }
   ],
   "source": [
    "#b with while\n",
    "sum2 = 0\n",
    "counter2 = 1\n",
    "while sum2 < 99:\n",
    "    sum2 = sum2 + counter2\n",
    "    if sum2 %2 != 0:\n",
    "        print(sum2, end =\"+\")\n"
   ]
  },
  {
   "cell_type": "code",
   "execution_count": null,
   "id": "c3d46b48",
   "metadata": {},
   "outputs": [
    {
     "name": "stdout",
     "output_type": "stream",
     "text": [
      "The sum of odd numbers from 1 to 99 is: 2500\n"
     ]
    }
   ],
   "source": [
    "##b Correction - cheating\n",
    "sum = 0\n",
    "number = 1\n",
    "\n",
    "# Use while loop to add odd numbers from 1 to 99\n",
    "while number <= 99:\n",
    "    sum += number\n",
    "    number += 2  # Increment by 2 to get the next odd number\n",
    "\n",
    "print(f\"The sum of odd numbers from 1 to 99 is: {sum}\")"
   ]
  },
  {
   "cell_type": "code",
   "execution_count": null,
   "id": "57b8418c",
   "metadata": {},
   "outputs": [
    {
     "name": "stdout",
     "output_type": "stream",
     "text": [
      "The total is equal to 2500\n"
     ]
    }
   ],
   "source": [
    "#b with for\n",
    "sum3 = 0\n",
    "for i in range(1,100,2):\n",
    "    sum3 += i \n",
    "print(f\"The total is equal to {sum3}\")\n",
    "  \n"
   ]
  },
  {
   "cell_type": "markdown",
   "id": "0b2ee019",
   "metadata": {},
   "source": [
    "6. Multiplication game (*)\n"
   ]
  },
  {
   "cell_type": "code",
   "execution_count": null,
   "id": "92be31f0",
   "metadata": {},
   "outputs": [],
   "source": [
    "# welcome user\n",
    "# import random \n",
    "# related to video - to check again"
   ]
  },
  {
   "cell_type": "code",
   "execution_count": 9,
   "id": "273cf46f",
   "metadata": {},
   "outputs": [
    {
     "name": "stdout",
     "output_type": "stream",
     "text": [
      "The correct answer was 2\n",
      "Good work!\n",
      "Bye for now!\n"
     ]
    }
   ],
   "source": [
    "import random as rnd\n",
    "\n",
    "while True:\n",
    "    x = rnd.randint(1,10)\n",
    "    y = rnd.randint(1,10)\n",
    "\n",
    "    user_answer = int(input(f\"How much is {x} x {y}?\"))\n",
    "\n",
    "    if user_answer == x*y:\n",
    "        print(\"Good work!\")\n",
    "        \n",
    "    else:\n",
    "        print(f\"The correct answer was {x*y}\")\n",
    "        \n",
    "    play_again = input(\"Try again, y for yes\")\n",
    "    if play_again != \"y\":\n",
    "        print(\"Bye for now!\")\n",
    "        break\n",
    "\n",
    "    \n",
    "\n"
   ]
  },
  {
   "cell_type": "markdown",
   "id": "7f40fac4",
   "metadata": {},
   "source": [
    "#7. Multiplication table (*)\n",
    "\n",
    "Use for statement(s) to:\n",
    "\n",
    "  a)   print out the 6th multiplication table from 0 to 10 (*)\n",
    "\n",
    "  b)   let the user input the table, start and end of the table. (*)\n",
    "\n",
    "  c)   print out a full multiplication table from 0 to 10. (**)\n",
    "\n",
    "Hint: Use nested for-loops, which means a for-loop in a for-loop. To format the table nicely, use f-string: print(f\"{number :4}\", end = \"\")\n",
    "\n"
   ]
  },
  {
   "cell_type": "code",
   "execution_count": 11,
   "id": "ff9844c8",
   "metadata": {},
   "outputs": [
    {
     "name": "stdout",
     "output_type": "stream",
     "text": [
      "0\n",
      "6\n",
      "12\n",
      "18\n",
      "24\n",
      "30\n",
      "36\n",
      "42\n",
      "48\n",
      "54\n",
      "60\n"
     ]
    }
   ],
   "source": [
    "#a\n",
    "tab6 = 0\n",
    "for i in range(11):\n",
    "    tab6 = i * 6\n",
    "    print(tab6)\n"
   ]
  },
  {
   "cell_type": "code",
   "execution_count": 12,
   "id": "bdba674f",
   "metadata": {},
   "outputs": [
    {
     "ename": "SyntaxError",
     "evalue": "invalid syntax (3309550545.py, line 4)",
     "output_type": "error",
     "traceback": [
      "  \u001b[36mCell\u001b[39m\u001b[36m \u001b[39m\u001b[32mIn[12]\u001b[39m\u001b[32m, line 4\u001b[39m\n\u001b[31m    \u001b[39m\u001b[31mtab  =\u001b[39m\n           ^\n\u001b[31mSyntaxError\u001b[39m\u001b[31m:\u001b[39m invalid syntax\n"
     ]
    }
   ],
   "source": [
    "#b  NOT SURE \n",
    "tab = 0\n",
    "for i in range(11):\n",
    "    tab  = \n"
   ]
  },
  {
   "cell_type": "code",
   "execution_count": 31,
   "id": "38e7056c",
   "metadata": {},
   "outputs": [
    {
     "name": "stdout",
     "output_type": "stream",
     "text": [
      "   0      0      0      0      0      0      0      0      0      0      0   \n",
      "   0      1      2      3      4      5      6      7      8      9     10   \n",
      "   0      2      4      6      8     10     12     14     16     18     20   \n",
      "   0      3      6      9     12     15     18     21     24     27     30   \n",
      "   0      4      8     12     16     20     24     28     32     36     40   \n",
      "   0      5     10     15     20     25     30     35     40     45     50   \n",
      "   0      6     12     18     24     30     36     42     48     54     60   \n",
      "   0      7     14     21     28     35     42     49     56     63     70   \n",
      "   0      8     16     24     32     40     48     56     64     72     80   \n",
      "   0      9     18     27     36     45     54     63     72     81     90   \n",
      "   0     10     20     30     40     50     60     70     80     90    100   \n"
     ]
    }
   ],
   "source": [
    "#c full multiplication table\n",
    "number = 0\n",
    "for i in range(11):\n",
    "    for ii in range(11):\n",
    "        print(f\"{i*ii :4}\", end= \"   \")\n",
    "    print()\n",
    "    \n",
    "   \n",
    "\n"
   ]
  },
  {
   "cell_type": "markdown",
   "id": "82a5f1ff",
   "metadata": {},
   "source": [
    "8. Rice on chessboard (*)\n",
    "\n",
    "In first square of the chessboard there is one grain of rice, in the second square there is two grains, in the third square there is four grains and so on. How many grains are there in the whole chessboard when all squares are filled using this pattern?"
   ]
  },
  {
   "cell_type": "code",
   "execution_count": 35,
   "id": "09d5570f",
   "metadata": {},
   "outputs": [
    {
     "name": "stdout",
     "output_type": "stream",
     "text": [
      "2080\n"
     ]
    }
   ],
   "source": [
    "total_rice = 0\n",
    "for i in range(1,65):\n",
    "    total_rice +=i\n",
    "    i +=1\n",
    "print(total_rice)\n",
    "    "
   ]
  },
  {
   "cell_type": "markdown",
   "id": "f9bbb80f",
   "metadata": {},
   "source": [
    "9. Check convergence (**)\n",
    "\n",
    "I skip it."
   ]
  },
  {
   "cell_type": "markdown",
   "id": "6442a795",
   "metadata": {},
   "source": [
    "10. Theory\n",
    "\n",
    "a) When is it better to use while statement and when is it better to use for statement?\n",
    "While st is used when we do not know the number of iterations. For, when we know it. \n",
    "\n",
    "b) What is the difference between = and == in Python?\n",
    "= is to assign the value to a variable\n",
    "== is the equal sign\n",
    "\n",
    "c) Explain how an if-elif-else block works in Python. What happens if multiple conditions are true?\n",
    "if-elif,else statements are a code structure. The code starts with if, condition 1, and if the condition is satisifed the code stops running. If not it continues to elif. If the elif condition is satisfied the code stops running otherwise it continues to else, if there is an else.Else does not need to satify a condition.  \n",
    "\n",
    "d) What does the continue statement do in a loop? How is it different from break?\n",
    "The continue statement skips the rest of the current iteration in a loop and moves to the next iteration.\n",
    "When continue is executed, any code after it in the loop body is skipped the loop proceeds with the next value (in a for loop) or re-evaluates the condition (in a while loop).\n",
    "\n",
    "The break statement exits the loop entirely, stopping all further iterations.\n",
    "\n",
    "e) Explain the meaning of truthy and falsy values and give a few example of both.\n",
    "Is truthy alll values whihc are not falsy. A falsy value is a value that evaluates to False. Falsy values:\n",
    "- False (the boolean value)\n",
    "- None\n",
    "- Zero of any numeric type:\n",
    "0 (integer)\n",
    "0.0 (float)\n",
    "0j (complex)\n",
    "\n",
    "- Empty sequences:\n",
    "\"\" (empty string)\n",
    "[] (empty list)\n",
    "() (empty tuple)\n",
    "\n",
    "Empty mappings:\n",
    "{} (empty dictionary)\n",
    "set() (empty set)\n",
    "\n",
    "- Objects of classes that define __bool__() or __len__() to return False or 0.\n",
    "\n",
    "Examples:\n",
    "if False:\n",
    "    print(\"This won't print\")\n",
    "if None:\n",
    "    print(\"This won't print\")\n",
    "if 0:\n",
    "    print(\"This won't print\")\n",
    "if \"\":\n",
    "    print(\"This won't print\")\n",
    "if []:\n",
    "    print(\"This won't print\")\n",
    "if {}:\n",
    "    print(\"This won't print\")\n",
    "\n",
    "\n",
    "f) Can you nest control structures in Python (e.g., a loop inside an if)? Give a brief example.\n",
    "Yes, one can use:\n",
    "for i in range(3):\n",
    "    for ii in range(3):\n",
    "        ...\n",
    "\n",
    "g) Every expression can be part of a statement, but not all statements are expressions. True or false?\n",
    "We need to define what an expression or a statement are first.\n",
    "\n",
    "An expression is a piece of code that produces a value. Examples:\n",
    "Arithmetic: 3 + 5\n",
    "Variables: x\n",
    "Function calls: len(\"hello\")\n",
    "Literals: \"hello\", 42, True\n",
    "\n",
    "A statement is a complete unit of execution that performs an action. Examples:\n",
    "Assignment: x = 5\n",
    "Loops: for i in range(5):\n",
    "Conditionals: if x > 0:\n",
    "return, break, continue, pass, etc.\n",
    "\n",
    "TRUE!\n"
   ]
  },
  {
   "cell_type": "markdown",
   "id": "d6c33445",
   "metadata": {},
   "source": [
    "# Glossary\n",
    "\n",
    "control structures = use of if, elif, else to arrange, control, a code.\n",
    "conditional statement = statement that depends on a condition.\n",
    "if\t\n",
    "elif\t\n",
    "else\t\n",
    "for\t= looping.\n",
    "while = looping\n",
    "break = to exit a loop entirely.\n",
    "continue = \"ignore\" the current iteration to go to the next. \t\n",
    "boolean expression = expression which evaluates to False or True. \n",
    "loop = \n",
    "nested loop\t= a loop in a loop.\n",
    "nested if statement\t= a if_st in a if_st.\n",
    "expression =  a part of a code which produce a value. \n",
    "statement = a complete unit of execution.\n",
    "control flow"
   ]
  }
 ],
 "metadata": {
  "kernelspec": {
   "display_name": "python_christophe-giraud_DE25",
   "language": "python",
   "name": "python3"
  },
  "language_info": {
   "codemirror_mode": {
    "name": "ipython",
    "version": 3
   },
   "file_extension": ".py",
   "mimetype": "text/x-python",
   "name": "python",
   "nbconvert_exporter": "python",
   "pygments_lexer": "ipython3",
   "version": "3.12.10"
  }
 },
 "nbformat": 4,
 "nbformat_minor": 5
}
