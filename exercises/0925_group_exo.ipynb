{
 "cells": [
  {
   "cell_type": "code",
   "execution_count": 3,
   "id": "7f37992f",
   "metadata": {},
   "outputs": [
    {
     "name": "stdout",
     "output_type": "stream",
     "text": [
      "You get a 30% discount and your price is 70.0kr.\n"
     ]
    }
   ],
   "source": [
    "nber_apple = int(input(\"How many apples do you want?\"))\n",
    "cust = input(\"student eller pensioner?\")\n",
    "price = 10\n",
    "pensioner_price = price * 0.5 * nber_apple\n",
    "student_price = price * 0.7 * nber_apple\n",
    "\n",
    "if cust == \"student\":\n",
    "    print(f\"You get a 30% discount and your price is {student_price}kr.\")\n",
    "\n",
    "else:\n",
    "    print(f\"As a pensioner, you get 50% off and your price is {pensioner_price}kr.\")\n"
   ]
  }
 ],
 "metadata": {
  "kernelspec": {
   "display_name": "python_christophe-giraud_DE25",
   "language": "python",
   "name": "python3"
  },
  "language_info": {
   "codemirror_mode": {
    "name": "ipython",
    "version": 3
   },
   "file_extension": ".py",
   "mimetype": "text/x-python",
   "name": "python",
   "nbconvert_exporter": "python",
   "pygments_lexer": "ipython3",
   "version": "3.12.10"
  }
 },
 "nbformat": 4,
 "nbformat_minor": 5
}
