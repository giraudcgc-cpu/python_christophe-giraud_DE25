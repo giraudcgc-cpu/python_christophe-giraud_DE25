{
 "cells": [
  {
   "cell_type": "code",
   "execution_count": 2,
   "id": "29b92774",
   "metadata": {},
   "outputs": [
    {
     "name": "stdout",
     "output_type": "stream",
     "text": [
      "5.0\n"
     ]
    }
   ],
   "source": [
    "# A right angled triangle has the catheti: a = 3 and b = 4 length units. Compute the hypothenuse of the triangle. (*)\n",
    "a = 3\n",
    "b = 4\n",
    "hypothenuse = a ** 2 + b ** 2   # sum of the squarres of each side\n",
    "print(hypothenuse ** 0.5)       # we get the squarre of hypothenuse and need to get the root\n",
    "# hypothesnue is equal to 5\n"
   ]
  },
  {
   "cell_type": "code",
   "execution_count": 9,
   "id": "d91639ab",
   "metadata": {},
   "outputs": [
    {
     "name": "stdout",
     "output_type": "stream",
     "text": [
      "4.9\n"
     ]
    }
   ],
   "source": [
    "# A right angled triangle has hypothenuse c = 7.0 and a cathetus a = 5.0 length units. Compute the other cathetus and round to one decimal. (*)\n",
    "a = 5\n",
    "c = 7\n",
    "# We want b, hypothenuse \"c\" = a**2 + b**2 \n",
    "# 7**2 - 5**2 = b **2\n",
    "# 49 - 25 = b**2\n",
    "# 24 = b**2\n",
    "number = 24 ** 0.5\n",
    "print(round(number,1))\n",
    "# 4.898979485566356\n"
   ]
  },
  {
   "cell_type": "markdown",
   "id": "399232ee",
   "metadata": {},
   "source": [
    "1. Classification accuracy (*)\n"
   ]
  },
  {
   "cell_type": "code",
   "execution_count": 11,
   "id": "8e956d0b",
   "metadata": {},
   "outputs": [
    {
     "name": "stdout",
     "output_type": "stream",
     "text": [
      "82.1917808219178\n"
     ]
    }
   ],
   "source": [
    "# A machine learning algorithm has been trained to predict whether or not it would rain the next day. \n",
    "# Out of 365 predictions, it got 300 correct, compute the accuracy of this model.\n",
    "prediction = (300 / 365)*100 # to get in percent\n",
    "print(prediction)"
   ]
  },
  {
   "cell_type": "markdown",
   "id": "f8aab916",
   "metadata": {},
   "source": [
    "# 1. Classification accuracy (*)\n",
    "\n",
    "A machine learning algorithm has been trained to predict whether or not it would rain the next day. Out of 365 predictions, it got 300 correct, compute the accuracy of this model.\n"
   ]
  },
  {
   "cell_type": "markdown",
   "id": "aaf9111e",
   "metadata": {},
   "source": []
  },
  {
   "cell_type": "code",
   "execution_count": 1,
   "id": "b074c426",
   "metadata": {},
   "outputs": [
    {
     "name": "stdout",
     "output_type": "stream",
     "text": [
      "82.1917808219178\n"
     ]
    }
   ],
   "source": [
    "correct_predictions = 300\n",
    "total_predictions = 365\n",
    "# we want to compute and assess the percentage of accurace/success\n",
    "accuracy = (300/365*100)\n",
    "print(accuracy)\n"
   ]
  },
  {
   "cell_type": "markdown",
   "id": "6c54f3a7",
   "metadata": {},
   "source": [
    "# 2. Classification accuracy (*)\n"
   ]
  },
  {
   "cell_type": "code",
   "execution_count": 2,
   "id": "8b62af83",
   "metadata": {},
   "outputs": [],
   "source": [
    "# As per the formula, the model seems good with 98.7% accuracy but it fails a lot in case of False negative\n",
    "# where no fire was predicted but occured 11 times.\n",
    "# Also the True negative represent a high number that makes the result misleading."
   ]
  },
  {
   "cell_type": "markdown",
   "id": "fb7e930b",
   "metadata": {},
   "source": [
    "# 3. File metadata - format print (*)\n",
    "\n",
    "Original:<br>\n",
    "name: orders_data.csv <br>\n",
    "file size: 3.14mb <br>\n",
    "modified 2024\n",
    "\n",
    "Results: <br>\n",
    "=== File metadata === <br>\n",
    "Filename: sales_data.csv <br> \n",
    "Size (MB): 24.7 <br>\n",
    "Last Modified Year: 2023"
   ]
  },
  {
   "cell_type": "code",
   "execution_count": null,
   "id": "71c90cfd",
   "metadata": {},
   "outputs": [
    {
     "name": "stdout",
     "output_type": "stream",
     "text": [
      "=== File metadata ===\n",
      "Filename: sales_data.csv\n",
      "Size (MB):24.7\n",
      "Last Modified Year: 2023\n"
     ]
    }
   ],
   "source": [
    "# I want to use replace() ***\n",
    "# Variables for Original\n",
    "name = \"orders_data.csv\"\n",
    "size = \"file size: 3.14mb\"\n",
    "modif = \"modified 2024\"\n",
    "# New \n",
    "file_title = \"=== File metadata ===\"\n",
    "new_name = name.replace(\"orders_data.csv\", \"Filename: sales_data.csv\")\n",
    "new_size = size.replace(\"file size: 3.14mb\",\"Size (MB):24.7\")\n",
    "new_modif = modif.replace(\"modified 2024\",\"Last Modified Year: 2023\")\n",
    "print(f\"{file_title}\\n{new_name}\\n{new_size}\\n{new_modif}\")\n",
    "\n",
    "#At first it did not work because I did not use f-string nor {} ***\n",
    "\n"
   ]
  },
  {
   "cell_type": "markdown",
   "id": "e1acf138",
   "metadata": {},
   "source": [
    "# 4. Unit converter - inch to cm (*)\n",
    "Screen sizes are defined using inches for example my computer has 15'' and it corresponds to the diagonal of the screen. Let the user type in a value in inches and output the result in centimeters.\n",
    "\n"
   ]
  },
  {
   "cell_type": "code",
   "execution_count": 2,
   "id": "0f8703a5",
   "metadata": {},
   "outputs": [
    {
     "name": "stdout",
     "output_type": "stream",
     "text": [
      "38.1cm\n"
     ]
    }
   ],
   "source": [
    "# 1 inch = 2.54 cm\n",
    "inch_size = int(input(\"Enter the screen size in inches\"))\n",
    "cm_size = float(inch_size) * 2.54\n",
    "print(f\"{cm_size}cm\")"
   ]
  },
  {
   "cell_type": "markdown",
   "id": "78da201e",
   "metadata": {},
   "source": [
    "# 5. Count characters in a text (*)\n",
    "\n",
    "Create a program to let a user input a text, count the number of characters and print it out to the screen. Space can also be counted as a character here.\n",
    "\n",
    "Hint: len() function"
   ]
  },
  {
   "cell_type": "code",
   "execution_count": 3,
   "id": "436f5f5d",
   "metadata": {},
   "outputs": [
    {
     "name": "stdout",
     "output_type": "stream",
     "text": [
      "5\n"
     ]
    }
   ],
   "source": [
    "text = input('How many characters contains your text?')\n",
    "count_text = len(text)\n",
    "print(count_text)"
   ]
  },
  {
   "cell_type": "markdown",
   "id": "4aa93c78",
   "metadata": {},
   "source": [
    "# 6. Data types (*)\n",
    "\n",
    "Create variables of type bool, int, float, str and list. Then use type function and check each variables type.\n",
    "\n",
    "radius = 5 has type <class 'int'> <br>\n",
    "PI = 3.1415 has type <class 'float'> <br>\n",
    "cool_subject = 'math' has type <class 'str'> <br>\n",
    "is_cool = True has type <class 'bool'> <br>\n",
    "numbers = [1, 2, 41, 2] has type <class 'list'>"
   ]
  },
  {
   "cell_type": "code",
   "execution_count": 25,
   "id": "8c2054f3",
   "metadata": {},
   "outputs": [
    {
     "name": "stdout",
     "output_type": "stream",
     "text": [
      "weight: <class 'int'>\n",
      "size: <class 'float'>\n",
      "gender: <class 'str'>\n",
      "lucky_numbers: <class 'list'>\n",
      "is_in_the_list: <class 'bool'>\n"
     ]
    }
   ],
   "source": [
    "weight = 96\n",
    "size = 1.84\n",
    "gender = 'male'\n",
    "lucky_numbers = [1,7,9,11,13,17]\n",
    "is_in_the_list = len(lucky_numbers) == 3\n",
    "print(f\"weight: {type(weight)}\\nsize: {type(size)}\\ngender: {type(gender)}\\nlucky_numbers: {type(lucky_numbers)}\\nis_in_the_list: {type(is_in_the_list)}\")\n",
    "# using f-string and {function(variables)} followed \\n to go to the line "
   ]
  },
  {
   "cell_type": "markdown",
   "id": "8dca5285",
   "metadata": {},
   "source": [
    "# 7. Theory\n",
    "a) What is the difference between input() and print() in Python?\n",
    "input is to prompt the user to give an answer.\n",
    "print is delivering/executig the code.\n",
    "\n",
    "b) What data type does the input() function return by default? How can you use it to get numeric input?\n",
    "By default, it return a string type.\n",
    "To get it numeric or get integer, it need to have \"int\" at the front as: int(input())\n",
    "\n",
    "c) Explain how formatted string literals (f-strings) improve readability in output statements. Give an example.\n",
    "They contain variables that are called out.\n",
    "name = Gabi\n",
    "age = 5\n",
    "print(f\"Bonjour {name}, tu as {age} ans.\")\n",
    "\n",
    "d) Can a variable change its data type during runtime in Python? Show an example.\n",
    "Yes, a same value can corresponfd to diff data types:\n",
    "int = 1\n",
    "float = 1.00\n",
    "str = \"1\"\n",
    "\n",
    "e) What does it mean that Python is \"dynamically typed\"? How is that different from statically typed languages?\n",
    "Dynamically Typed (Python): No need to declare the type of a variable. The type is inferred at runtime based on the value.\n",
    "Statically Typed (e.g., C, Java): You must explicitly declare the variable's type (e.g., int, float, String) when defining it.\n",
    "int x = 42      x is declared as an integer\n",
    "x = \"Hello\"     Error: cannot assign a string to an int variable"
   ]
  },
  {
   "cell_type": "markdown",
   "id": "79372af3",
   "metadata": {},
   "source": [
    "# Glossary\n",
    "\n",
    "data type\t\n",
    "variable\t\n",
    "assignment\t\n",
    "dynamically typed\t\n",
    "input\t\n",
    "output\t\n",
    "type casting\t\n",
    "boolean\t\n",
    "string\t\n",
    "f-string\t\n",
    "indentation\t\n",
    "convention* check list of best practices"
   ]
  }
 ],
 "metadata": {
  "kernelspec": {
   "display_name": "python_christophe-giraud_DE25",
   "language": "python",
   "name": "python3"
  },
  "language_info": {
   "codemirror_mode": {
    "name": "ipython",
    "version": 3
   },
   "file_extension": ".py",
   "mimetype": "text/x-python",
   "name": "python",
   "nbconvert_exporter": "python",
   "pygments_lexer": "ipython3",
   "version": "3.12.10"
  }
 },
 "nbformat": 4,
 "nbformat_minor": 5
}
