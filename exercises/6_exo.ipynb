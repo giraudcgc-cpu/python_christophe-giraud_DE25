{
 "cells": [
  {
   "cell_type": "markdown",
   "id": "f5653c6c",
   "metadata": {},
   "source": [
    "0. UNIT CONVERSION\n",
    "\n",
    "\n",
    "\n",
    "Create a class for converting US units to the metric system. It should have the following bound methods:\n",
    "\n",
    "__init__ (self, value)\n",
    "\n",
    "inch_to_cm(self)\n",
    "\n",
    "foot_to_meters(self)\n",
    "\n",
    "pound_to_kg(self)\n",
    "\n",
    "__repr__(self)\n",
    "Make sure that value is the correct type and format, raise suitable exceptions in case it isn't. Make value into property with getter and setter. Test your class manually by instantiating an object from it and test different methods"
   ]
  },
  {
   "cell_type": "code",
   "execution_count": 1,
   "id": "acfd2b86",
   "metadata": {},
   "outputs": [],
   "source": [
    "class MetricConversion:\n",
    "    def __init__(self, value):\n",
    "        self.value = value\n",
    "\n",
    "    @property\n",
    "    def value(self):\n",
    "        return self._value\n",
    "\n",
    "    @value.setter\n",
    "    def value(self, value):\n",
    "        if not isinstance(value,(int, float)):\n",
    "            raise TypeError(\"Value must be a number, integer or float\")\n",
    "        if value < 0:\n",
    "            raise ValueError(\"Value cannot be negative\")\n",
    "        self._value = value\n",
    "\n",
    "    def inch_to_cm(self):\n",
    "        return self._value * 2.54\n",
    "\n",
    "    def foot_to_meters(self):\n",
    "        return self._value * 0.3048\n",
    "\n",
    "    def pound_to_kg(self):\n",
    "        return self._value * 0.453592\n",
    "\n",
    "    def __repr__(self):\n",
    "        return f\"MetricConversion(value={self._value})\"\n"
   ]
  },
  {
   "cell_type": "code",
   "execution_count": null,
   "id": "52fb3243",
   "metadata": {},
   "outputs": [],
   "source": [
    "convert = MetricConversion(10)  # Initialize with value 10 ( in inches)\n",
    "inches_to_cm = convert.inch_to_cm()  \n",
    "print(inches_to_cm)  "
   ]
  },
  {
   "cell_type": "code",
   "execution_count": null,
   "id": "0e0f62e4",
   "metadata": {},
   "outputs": [],
   "source": [
    "print(convert.foot_to_meters())"
   ]
  },
  {
   "cell_type": "code",
   "execution_count": null,
   "id": "f0d7c4da",
   "metadata": {},
   "outputs": [],
   "source": [
    "convert.pound_to_kg()"
   ]
  },
  {
   "cell_type": "code",
   "execution_count": 15,
   "id": "c9d5c38f",
   "metadata": {},
   "outputs": [
    {
     "name": "stdout",
     "output_type": "stream",
     "text": [
      "MetricConversion(value=10)\n",
      "10 inches to cm: 25.4\n",
      "10 feet to meters: 3.048\n",
      "10 pounds to kg: 4.53592\n",
      "TypeError: Value must be a number, integer or float\n"
     ]
    }
   ],
   "source": [
    "# Manual Testing\n",
    "\n",
    "if __name__ == '__main__':\n",
    "    try:\n",
    "        converter = MetricConversion(10)\n",
    "        print(converter)\n",
    "        print(f\"{converter.value} inches to cm: {converter.inch_to_cm()}\") \n",
    "        print(f\"{converter.value} feet to meters: {converter.foot_to_meters()}\") \n",
    "        print(f\"{converter.value} pounds to kg: {converter.pound_to_kg()}\") \n",
    "\n",
    "        converter = MetricConversion(\"invalid\") \n",
    "    except TypeError as e:\n",
    "        print(f\"TypeError: {e}\")"
   ]
  }
 ],
 "metadata": {
  "kernelspec": {
   "display_name": "python_christophe-giraud_DE25",
   "language": "python",
   "name": "python3"
  },
  "language_info": {
   "codemirror_mode": {
    "name": "ipython",
    "version": 3
   },
   "file_extension": ".py",
   "mimetype": "text/x-python",
   "name": "python",
   "nbconvert_exporter": "python",
   "pygments_lexer": "ipython3",
   "version": "3.12.10"
  }
 },
 "nbformat": 4,
 "nbformat_minor": 5
}
