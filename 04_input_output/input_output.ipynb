{
 "cells": [
  {
   "cell_type": "markdown",
   "id": "9f036e4a",
   "metadata": {},
   "source": [
    "# Inputs and outputs"
   ]
  },
  {
   "cell_type": "code",
   "execution_count": 2,
   "id": "c411a475",
   "metadata": {},
   "outputs": [
    {
     "name": "stdout",
     "output_type": "stream",
     "text": [
      "Hello world!\n"
     ]
    }
   ],
   "source": [
    "print(\"Hello world!\")"
   ]
  },
  {
   "cell_type": "code",
   "execution_count": 4,
   "id": "54e24566",
   "metadata": {},
   "outputs": [
    {
     "name": "stdout",
     "output_type": "stream",
     "text": [
      "My name is Christophe\n"
     ]
    }
   ],
   "source": [
    "print('My name is Christophe')"
   ]
  },
  {
   "cell_type": "code",
   "execution_count": 8,
   "id": "44d5d327",
   "metadata": {},
   "outputs": [
    {
     "name": "stdout",
     "output_type": "stream",
     "text": [
      "Your name is Edith\n"
     ]
    }
   ],
   "source": [
    "name = \"Edith\"\n",
    "print(f'Your name is {name}')"
   ]
  },
  {
   "cell_type": "code",
   "execution_count": 14,
   "id": "af4d8287",
   "metadata": {},
   "outputs": [
    {
     "name": "stdout",
     "output_type": "stream",
     "text": [
      " is  years old\n"
     ]
    }
   ],
   "source": [
    "name = input('What is your name?')\n",
    "age = input('What is your age?')\n",
    "print(f'{name} is {age} years old')"
   ]
  },
  {
   "cell_type": "markdown",
   "id": "3ce542a6",
   "metadata": {},
   "source": [
    "# Type coercion"
   ]
  },
  {
   "cell_type": "code",
   "execution_count": 17,
   "id": "d31d8ed0",
   "metadata": {},
   "outputs": [
    {
     "ename": "TypeError",
     "evalue": "can't multiply sequence by non-int of type 'float'",
     "output_type": "error",
     "traceback": [
      "\u001b[31m---------------------------------------------------------------------------\u001b[39m",
      "\u001b[31mTypeError\u001b[39m                                 Traceback (most recent call last)",
      "\u001b[36mCell\u001b[39m\u001b[36m \u001b[39m\u001b[32mIn[17]\u001b[39m\u001b[32m, line 3\u001b[39m\n\u001b[32m      1\u001b[39m gravity = \u001b[32m9.82\u001b[39m\n\u001b[32m      2\u001b[39m mass = \u001b[38;5;28minput\u001b[39m(\u001b[33m'\u001b[39m\u001b[33mEnter your weight in kg\u001b[39m\u001b[33m'\u001b[39m)\n\u001b[32m----> \u001b[39m\u001b[32m3\u001b[39m force = \u001b[43mmass\u001b[49m\u001b[43m*\u001b[49m\u001b[43mgravity\u001b[49m\n\u001b[32m      4\u001b[39m \u001b[38;5;66;03m# We cannot Xply diff types, gravity is float and mass is a str\u001b[39;00m\n",
      "\u001b[31mTypeError\u001b[39m: can't multiply sequence by non-int of type 'float'"
     ]
    }
   ],
   "source": [
    "gravity = 9.82\n",
    "mass = input('Enter your weight in kg')\n",
    "force = mass*gravity\n",
    "# We cannot Xply diff types, gravity is float and mass is a str\n"
   ]
  },
  {
   "cell_type": "code",
   "execution_count": 22,
   "id": "babf8d1c",
   "metadata": {},
   "outputs": [
    {
     "data": {
      "text/plain": [
       "float"
      ]
     },
     "execution_count": 22,
     "metadata": {},
     "output_type": "execute_result"
    }
   ],
   "source": [
    "type(gravity)\n"
   ]
  },
  {
   "cell_type": "code",
   "execution_count": 24,
   "id": "d0ac981f",
   "metadata": {},
   "outputs": [
    {
     "data": {
      "text/plain": [
       "str"
      ]
     },
     "execution_count": 24,
     "metadata": {},
     "output_type": "execute_result"
    }
   ],
   "source": [
    "type(mass)"
   ]
  },
  {
   "cell_type": "code",
   "execution_count": 27,
   "id": "905e0b85",
   "metadata": {},
   "outputs": [
    {
     "ename": "ValueError",
     "evalue": "could not convert string to float: ''",
     "output_type": "error",
     "traceback": [
      "\u001b[31m---------------------------------------------------------------------------\u001b[39m",
      "\u001b[31mValueError\u001b[39m                                Traceback (most recent call last)",
      "\u001b[36mCell\u001b[39m\u001b[36m \u001b[39m\u001b[32mIn[27]\u001b[39m\u001b[32m, line 2\u001b[39m\n\u001b[32m      1\u001b[39m gravity = \u001b[32m9.82\u001b[39m\n\u001b[32m----> \u001b[39m\u001b[32m2\u001b[39m mass =\u001b[38;5;28;43mfloat\u001b[39;49m\u001b[43m(\u001b[49m\u001b[38;5;28;43minput\u001b[39;49m\u001b[43m(\u001b[49m\u001b[33;43m'\u001b[39;49m\u001b[33;43mEnter your weight in kg\u001b[39;49m\u001b[33;43m'\u001b[39;49m\u001b[43m)\u001b[49m\u001b[43m)\u001b[49m\n\u001b[32m      3\u001b[39m force = mass*gravity\n\u001b[32m      4\u001b[39m \u001b[38;5;28mprint\u001b[39m(force)\n",
      "\u001b[31mValueError\u001b[39m: could not convert string to float: ''"
     ]
    }
   ],
   "source": [
    "gravity = 9.82\n",
    "mass =float(input('Enter your weight in kg'))\n",
    "force = mass*gravity\n",
    "print(force)"
   ]
  },
  {
   "cell_type": "markdown",
   "id": "8af39e45",
   "metadata": {},
   "source": [
    "# More types"
   ]
  },
  {
   "cell_type": "code",
   "execution_count": 29,
   "id": "5ba8e9f5",
   "metadata": {},
   "outputs": [
    {
     "data": {
      "text/plain": [
       "(int, str, bool, float)"
      ]
     },
     "execution_count": 29,
     "metadata": {},
     "output_type": "execute_result"
    }
   ],
   "source": [
    "radius = 7\n",
    "geometry = 'circle'\n",
    "is_unit_circle = False\n",
    "screen_inches = 6.4\n",
    "type(radius), type(geometry), type(is_unit_circle), type(screen_inches) "
   ]
  }
 ],
 "metadata": {
  "kernelspec": {
   "display_name": "my python project",
   "language": "python",
   "name": "python3"
  },
  "language_info": {
   "codemirror_mode": {
    "name": "ipython",
    "version": 3
   },
   "file_extension": ".py",
   "mimetype": "text/x-python",
   "name": "python",
   "nbconvert_exporter": "python",
   "pygments_lexer": "ipython3",
   "version": "3.12.10"
  }
 },
 "nbformat": 4,
 "nbformat_minor": 5
}
