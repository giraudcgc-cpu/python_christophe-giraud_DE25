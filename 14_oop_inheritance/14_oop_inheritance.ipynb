{
 "cells": [
  {
   "cell_type": "markdown",
   "id": "0c6358fa",
   "metadata": {},
   "source": [
    "INHERITANCE - OOP"
   ]
  },
  {
   "cell_type": "code",
   "execution_count": 1,
   "id": "0ecff92f",
   "metadata": {},
   "outputs": [
    {
     "name": "stdout",
     "output_type": "stream",
     "text": [
      "property 'name' of 'Person' object has no setter\n",
      "Örjan\n",
      "Örjan says hi\n"
     ]
    }
   ],
   "source": [
    "class Person:\n",
    "    def __init__(self, name: str, age: int):\n",
    "        self._name = name\n",
    "        self.age = age\n",
    "\n",
    "    @property\n",
    "    def name(self):\n",
    "        return self._name\n",
    "\n",
    "    @property\n",
    "    def age(self):\n",
    "        return self._age\n",
    "  \n",
    "    @age.setter\n",
    "    def age(self, value: int):\n",
    "        if not isinstance(value, int):\n",
    "            raise TypeError(f\"Age must be a number and not {type(value)}\")\n",
    "        if value < 0 or value > 124:\n",
    "            raise ValueError(f\"age must be between 0 and 123, not {value}\")\n",
    "\n",
    "        self._age = value\n",
    "\n",
    "    def say_hi(self) -> None:\n",
    "        print(f\"{self.name} says hi\")\n",
    "    \n",
    "p1 = Person(\"Örjan\", 25)\n",
    "    \n",
    "try:\n",
    "    # setter not defined\n",
    "    p1.name = \"Börje\"\n",
    "except AttributeError as err:\n",
    "    print(err)\n",
    "\n",
    "    # used getter\n",
    "print(p1.name)\n",
    "  \n",
    "p1.say_hi()"
   ]
  },
  {
   "cell_type": "code",
   "execution_count": 2,
   "id": "39c3056f",
   "metadata": {},
   "outputs": [],
   "source": [
    "p2 = Person(\"Ceda\", age = 5)"
   ]
  },
  {
   "cell_type": "code",
   "execution_count": 3,
   "id": "aec73fa5",
   "metadata": {},
   "outputs": [
    {
     "name": "stdout",
     "output_type": "stream",
     "text": [
      "age must be between 0 and 123, not -5\n"
     ]
    }
   ],
   "source": [
    "try: \n",
    "    p2 = Person(\"Ceda\", age = -5)\n",
    "except ValueError as err:\n",
    "    print(err)"
   ]
  },
  {
   "cell_type": "code",
   "execution_count": 4,
   "id": "c97b952e",
   "metadata": {},
   "outputs": [
    {
     "name": "stdout",
     "output_type": "stream",
     "text": [
      "Age must be a number and not <class 'str'>\n"
     ]
    }
   ],
   "source": [
    "try:\n",
    "    p3 = Person(\"Doddo\", age = \"femtio\")\n",
    "except TypeError as err:\n",
    "    print(err)"
   ]
  },
  {
   "cell_type": "code",
   "execution_count": null,
   "id": "c0d14fb2",
   "metadata": {},
   "outputs": [
    {
     "name": "stdout",
     "output_type": "stream",
     "text": [
      "age must be between 0 and 123, not 125\n",
      "Student says hi in langauge Python\n"
     ]
    }
   ],
   "source": [
    "class Student(Person):\n",
    "    def __init__(self, name: str, age: int, language: str):\n",
    "        #this goes to the parent and use its __init__\n",
    "        super(). __init__(name, age)\n",
    "        self.language = language\n",
    "    \n",
    "    def say_hi(self):\n",
    "        print(f\"Student says hi in langauge {self.language}\")\n",
    "\n",
    "try:\n",
    "    s1 = Student(\"Björn\", 125, language = \"Norska\")\n",
    "except ValueError as err:\n",
    "    print(err)\n",
    "\n",
    "s2 = Student(\"Dan\", 37, language = \"Python\")\n",
    "s2.say_hi()"
   ]
  },
  {
   "cell_type": "code",
   "execution_count": 11,
   "id": "15722a29",
   "metadata": {},
   "outputs": [
    {
     "name": "stdout",
     "output_type": "stream",
     "text": [
      "ubbe says hi\n"
     ]
    },
    {
     "data": {
      "text/plain": [
       "OldCoinStash(owner='ubbe')"
      ]
     },
     "execution_count": 11,
     "metadata": {},
     "output_type": "execute_result"
    }
   ],
   "source": [
    "from oldcoins import OldCoinsStash\n",
    "class Viking(Person):\n",
    "    def __init__(self, name: str, age = int) -> None:\n",
    "        super().__init__(name, age)\n",
    "\n",
    "        # composition \"has a\" relationship\n",
    "        self.stash = OldCoinsStash(name)\n",
    "\n",
    "viking_ubbe = Viking(\"ubbe\", 35)\n",
    "viking_ubbe.say_hi()\n",
    "\n",
    "viking_ubbe.stash"
   ]
  },
  {
   "cell_type": "code",
   "execution_count": 9,
   "id": "99cf0dde",
   "metadata": {},
   "outputs": [
    {
     "data": {
      "text/plain": [
       "'Coins in stash: 1000 riksdaler, 500 skilling'"
      ]
     },
     "execution_count": 9,
     "metadata": {},
     "output_type": "execute_result"
    }
   ],
   "source": [
    "viking_ubbe.stash.deposit(1000, 500)\n",
    "viking_ubbe.stash.check_balance()"
   ]
  },
  {
   "cell_type": "code",
   "execution_count": 10,
   "id": "a874769a",
   "metadata": {},
   "outputs": [
    {
     "ename": "ValueError",
     "evalue": "age must be between 0 and 123, not -4",
     "output_type": "error",
     "traceback": [
      "\u001b[31m---------------------------------------------------------------------------\u001b[39m",
      "\u001b[31mValueError\u001b[39m                                Traceback (most recent call last)",
      "\u001b[36mCell\u001b[39m\u001b[36m \u001b[39m\u001b[32mIn[10]\u001b[39m\u001b[32m, line 1\u001b[39m\n\u001b[32m----> \u001b[39m\u001b[32m1\u001b[39m viking_ivar = \u001b[43mViking\u001b[49m\u001b[43m(\u001b[49m\u001b[33;43m\"\u001b[39;49m\u001b[33;43mivar\u001b[39;49m\u001b[33;43m\"\u001b[39;49m\u001b[43m,\u001b[49m\u001b[43m \u001b[49m\u001b[43m-\u001b[49m\u001b[32;43m4\u001b[39;49m\u001b[43m)\u001b[49m\n",
      "\u001b[36mCell\u001b[39m\u001b[36m \u001b[39m\u001b[32mIn[8]\u001b[39m\u001b[32m, line 4\u001b[39m, in \u001b[36mViking.__init__\u001b[39m\u001b[34m(self, name, age)\u001b[39m\n\u001b[32m      3\u001b[39m \u001b[38;5;28;01mdef\u001b[39;00m\u001b[38;5;250m \u001b[39m\u001b[34m__init__\u001b[39m(\u001b[38;5;28mself\u001b[39m, name: \u001b[38;5;28mstr\u001b[39m, age = \u001b[38;5;28mint\u001b[39m) -> \u001b[38;5;28;01mNone\u001b[39;00m:\n\u001b[32m----> \u001b[39m\u001b[32m4\u001b[39m     \u001b[38;5;28;43msuper\u001b[39;49m\u001b[43m(\u001b[49m\u001b[43m)\u001b[49m\u001b[43m.\u001b[49m\u001b[34;43m__init__\u001b[39;49m\u001b[43m(\u001b[49m\u001b[43mname\u001b[49m\u001b[43m,\u001b[49m\u001b[43m \u001b[49m\u001b[43mage\u001b[49m\u001b[43m)\u001b[49m\n\u001b[32m      5\u001b[39m     \u001b[38;5;28mself\u001b[39m.stash = OldCoinsStash(name)\n",
      "\u001b[36mCell\u001b[39m\u001b[36m \u001b[39m\u001b[32mIn[1]\u001b[39m\u001b[32m, line 4\u001b[39m, in \u001b[36mPerson.__init__\u001b[39m\u001b[34m(self, name, age)\u001b[39m\n\u001b[32m      2\u001b[39m \u001b[38;5;28;01mdef\u001b[39;00m\u001b[38;5;250m \u001b[39m\u001b[34m__init__\u001b[39m(\u001b[38;5;28mself\u001b[39m, name: \u001b[38;5;28mstr\u001b[39m, age: \u001b[38;5;28mint\u001b[39m):\n\u001b[32m      3\u001b[39m     \u001b[38;5;28mself\u001b[39m._name = name\n\u001b[32m----> \u001b[39m\u001b[32m4\u001b[39m     \u001b[38;5;28;43mself\u001b[39;49m\u001b[43m.\u001b[49m\u001b[43mage\u001b[49m = age\n",
      "\u001b[36mCell\u001b[39m\u001b[36m \u001b[39m\u001b[32mIn[1]\u001b[39m\u001b[32m, line 19\u001b[39m, in \u001b[36mPerson.age\u001b[39m\u001b[34m(self, value)\u001b[39m\n\u001b[32m     17\u001b[39m     \u001b[38;5;28;01mraise\u001b[39;00m \u001b[38;5;167;01mTypeError\u001b[39;00m(\u001b[33mf\u001b[39m\u001b[33m\"\u001b[39m\u001b[33mAge must be a number and not \u001b[39m\u001b[38;5;132;01m{\u001b[39;00m\u001b[38;5;28mtype\u001b[39m(value)\u001b[38;5;132;01m}\u001b[39;00m\u001b[33m\"\u001b[39m)\n\u001b[32m     18\u001b[39m \u001b[38;5;28;01mif\u001b[39;00m value < \u001b[32m0\u001b[39m \u001b[38;5;129;01mor\u001b[39;00m value > \u001b[32m124\u001b[39m:\n\u001b[32m---> \u001b[39m\u001b[32m19\u001b[39m     \u001b[38;5;28;01mraise\u001b[39;00m \u001b[38;5;167;01mValueError\u001b[39;00m(\u001b[33mf\u001b[39m\u001b[33m\"\u001b[39m\u001b[33mage must be between 0 and 123, not \u001b[39m\u001b[38;5;132;01m{\u001b[39;00mvalue\u001b[38;5;132;01m}\u001b[39;00m\u001b[33m\"\u001b[39m)\n\u001b[32m     21\u001b[39m \u001b[38;5;28mself\u001b[39m._age = value\n",
      "\u001b[31mValueError\u001b[39m: age must be between 0 and 123, not -4"
     ]
    }
   ],
   "source": [
    "viking_ivar = Viking(\"ivar\", -4)"
   ]
  }
 ],
 "metadata": {
  "kernelspec": {
   "display_name": "python_christophe-giraud_DE25",
   "language": "python",
   "name": "python3"
  },
  "language_info": {
   "codemirror_mode": {
    "name": "ipython",
    "version": 3
   },
   "file_extension": ".py",
   "mimetype": "text/x-python",
   "name": "python",
   "nbconvert_exporter": "python",
   "pygments_lexer": "ipython3",
   "version": "3.12.10"
  }
 },
 "nbformat": 4,
 "nbformat_minor": 5
}
