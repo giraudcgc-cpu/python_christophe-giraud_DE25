{
 "cells": [
  {
   "cell_type": "markdown",
   "id": "411768d8",
   "metadata": {},
   "source": [
    "EXPLORING THE MODULE OLDCOINS"
   ]
  },
  {
   "cell_type": "code",
   "execution_count": 1,
   "id": "ecb39d7d",
   "metadata": {},
   "outputs": [
    {
     "data": {
      "text/plain": [
       "OldCoinStash(owner='Ragnar Lothbroke')"
      ]
     },
     "execution_count": 1,
     "metadata": {},
     "output_type": "execute_result"
    }
   ],
   "source": [
    "from oldcoins import OldCoinsStash\n",
    "\n",
    "stash_ragnar = OldCoinsStash(\"Ragnar Lothbroke\")\n",
    "stash_ragnar"
   ]
  },
  {
   "cell_type": "code",
   "execution_count": 2,
   "id": "0a03279c",
   "metadata": {},
   "outputs": [
    {
     "data": {
      "text/plain": [
       "'Coins in stash: 0 riksdaler, 0 skilling'"
      ]
     },
     "execution_count": 2,
     "metadata": {},
     "output_type": "execute_result"
    }
   ],
   "source": [
    "stash_ragnar.check_balance()\n"
   ]
  },
  {
   "cell_type": "code",
   "execution_count": 3,
   "id": "1009cdc9",
   "metadata": {},
   "outputs": [
    {
     "data": {
      "text/plain": [
       "OldCoinStash(owner='Ragnar Lothbroke')"
      ]
     },
     "execution_count": 3,
     "metadata": {},
     "output_type": "execute_result"
    }
   ],
   "source": [
    "stash_ragnar.deposit(1000,500)\n",
    "stash_ragnar"
   ]
  },
  {
   "cell_type": "code",
   "execution_count": 4,
   "id": "61eabff3",
   "metadata": {},
   "outputs": [
    {
     "data": {
      "text/plain": [
       "'Coins in stash: 1000 riksdaler, 500 skilling'"
      ]
     },
     "execution_count": 4,
     "metadata": {},
     "output_type": "execute_result"
    }
   ],
   "source": [
    "stash_ragnar.check_balance()"
   ]
  },
  {
   "cell_type": "code",
   "execution_count": 5,
   "id": "b38bde06",
   "metadata": {},
   "outputs": [],
   "source": [
    "stash_ragnar.withdraw(500,250)"
   ]
  },
  {
   "cell_type": "code",
   "execution_count": 6,
   "id": "c236792e",
   "metadata": {},
   "outputs": [
    {
     "data": {
      "text/plain": [
       "'Coins in stash: 500 riksdaler, 250 skilling'"
      ]
     },
     "execution_count": 6,
     "metadata": {},
     "output_type": "execute_result"
    }
   ],
   "source": [
    "stash_ragnar.check_balance()"
   ]
  },
  {
   "cell_type": "code",
   "execution_count": 7,
   "id": "88a8ec00",
   "metadata": {},
   "outputs": [
    {
     "data": {
      "text/plain": [
       "OldCoinStash(owner='Bjorn')"
      ]
     },
     "execution_count": 7,
     "metadata": {},
     "output_type": "execute_result"
    }
   ],
   "source": [
    "stash_bjorn = OldCoinsStash(\"Bjorn\")\n",
    "stash_bjorn\n"
   ]
  },
  {
   "cell_type": "code",
   "execution_count": 8,
   "id": "d6923c2f",
   "metadata": {},
   "outputs": [
    {
     "data": {
      "text/plain": [
       "<bound method OldCoinsStash.check_balance of OldCoinStash(owner='Bjorn')>"
      ]
     },
     "execution_count": 8,
     "metadata": {},
     "output_type": "execute_result"
    }
   ],
   "source": [
    "stash_bjorn.check_balance"
   ]
  }
 ],
 "metadata": {
  "kernelspec": {
   "display_name": "python_christophe-giraud_DE25",
   "language": "python",
   "name": "python3"
  },
  "language_info": {
   "codemirror_mode": {
    "name": "ipython",
    "version": 3
   },
   "file_extension": ".py",
   "mimetype": "text/x-python",
   "name": "python",
   "nbconvert_exporter": "python",
   "pygments_lexer": "ipython3",
   "version": "3.12.10"
  }
 },
 "nbformat": 4,
 "nbformat_minor": 5
}
