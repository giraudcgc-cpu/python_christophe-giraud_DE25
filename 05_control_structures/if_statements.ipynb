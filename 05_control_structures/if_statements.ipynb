{
 "cells": [
  {
   "cell_type": "markdown",
   "id": "260fc929",
   "metadata": {},
   "source": [
    "# If statememts"
   ]
  },
  {
   "cell_type": "code",
   "execution_count": 5,
   "id": "02e44076",
   "metadata": {},
   "outputs": [
    {
     "name": "stdout",
     "output_type": "stream",
     "text": [
      "Enjoy your movie!\n"
     ]
    }
   ],
   "source": [
    "age = int(input('Enter your age: '))\n",
    "age_limit = 15\n",
    "\n",
    "if age < age_limit:\n",
    "    print('Sorry, you are too young for this movie')\n",
    "    print('Select another movie please')\n",
    "else:\n",
    "    print('Enjoy your movie!')"
   ]
  },
  {
   "cell_type": "code",
   "execution_count": 7,
   "id": "48cfc9ef",
   "metadata": {},
   "outputs": [
    {
     "name": "stdout",
     "output_type": "stream",
     "text": [
      "Welcome to roller coaster!\n"
     ]
    }
   ],
   "source": [
    "age = 15\n",
    "height = 150\n",
    "if age > 11 and 130 < height < 210:\n",
    "    print(\"Welcome to roller coaster!\")\n",
    "else:\n",
    "    print('Get lost!')"
   ]
  },
  {
   "cell_type": "markdown",
   "id": "a339214c",
   "metadata": {},
   "source": [
    "AND\n",
    "True and True = True\n",
    "True and False = False\n",
    "True or False = True\n",
    "False and True = False\n",
    "False and False = False\n",
    "\n",
    "OR\n",
    "True or True = T\n",
    "True or False = T\n",
    "False or True = T\n",
    "False or False = False"
   ]
  },
  {
   "cell_type": "markdown",
   "id": "3460fc9f",
   "metadata": {},
   "source": [
    "# Modulo operator"
   ]
  },
  {
   "cell_type": "code",
   "execution_count": 12,
   "id": "7270cabc",
   "metadata": {},
   "outputs": [
    {
     "name": "stdout",
     "output_type": "stream",
     "text": [
      "Odd number\n"
     ]
    }
   ],
   "source": [
    "number = 5\n",
    "if number % 2 == 0:\n",
    "    print('Even number')\n",
    "else:\n",
    "    print('Odd number')"
   ]
  },
  {
   "cell_type": "markdown",
   "id": "2087efb8",
   "metadata": {},
   "source": [
    "# IF ELIF ELSE"
   ]
  },
  {
   "cell_type": "code",
   "execution_count": 16,
   "id": "29bc9d79",
   "metadata": {},
   "outputs": [
    {
     "name": "stdout",
     "output_type": "stream",
     "text": [
      "Give the patient 500 mg\n"
     ]
    }
   ],
   "source": [
    "weight = 12\n",
    "if weight < 20:\n",
    "    print('Give the patient 500 mg')\n",
    "elif weight < 40:\n",
    "    print('Give the patient 750 mg')\n",
    "else:\n",
    "    print('Give the patient 1000 mg')"
   ]
  },
  {
   "cell_type": "markdown",
   "id": "3e44c4d2",
   "metadata": {},
   "source": [
    "# Nested if statements"
   ]
  },
  {
   "cell_type": "code",
   "execution_count": 20,
   "id": "f0ae3798",
   "metadata": {},
   "outputs": [
    {
     "name": "stdout",
     "output_type": "stream",
     "text": [
      "5 is divisible by 5\n",
      "5 is odd\n"
     ]
    }
   ],
   "source": [
    "number = 5\n",
    "if number % 5 == 0:\n",
    "    print(f'{number} is divisible by 5')\n",
    "    if number % 2 == 0:\n",
    "        print(f'{number} is even')\n",
    "    else:\n",
    "        print(f'{number} is odd')"
   ]
  },
  {
   "cell_type": "markdown",
   "id": "90a9cbf1",
   "metadata": {},
   "source": [
    "# One line if statement"
   ]
  },
  {
   "cell_type": "code",
   "execution_count": 22,
   "id": "34d3cf74",
   "metadata": {},
   "outputs": [
    {
     "name": "stdout",
     "output_type": "stream",
     "text": [
      "Olivia conatins the letter \"o\"\n"
     ]
    }
   ],
   "source": [
    "name = 'Olivia'\n",
    "gender = 'female'\n",
    "age = 7\n",
    "\n",
    "if 'o' in name.lower(): print(f'{name} conatins the letter \"o\"')"
   ]
  },
  {
   "cell_type": "code",
   "execution_count": 25,
   "id": "cf988791",
   "metadata": {},
   "outputs": [
    {
     "name": "stdout",
     "output_type": "stream",
     "text": [
      "Olivia contains the letter \"o\"\n"
     ]
    }
   ],
   "source": [
    "# Formated a s mormal it gives\n",
    "if 'o' in name.lower(): \n",
    "    print(f'{name} contains the letter \"o\"')"
   ]
  },
  {
   "cell_type": "code",
   "execution_count": 27,
   "id": "df6e2ffe",
   "metadata": {},
   "outputs": [
    {
     "name": "stdout",
     "output_type": "stream",
     "text": [
      "Hi ms Olivia\n"
     ]
    }
   ],
   "source": [
    "# one line if -else \n",
    "print(f'Hi mr {name}') if gender == 'male' else print(f'Hi ms {name}') "
   ]
  },
  {
   "cell_type": "code",
   "execution_count": 29,
   "id": "205a9043",
   "metadata": {},
   "outputs": [
    {
     "data": {
      "text/plain": [
       "True"
      ]
     },
     "execution_count": 29,
     "metadata": {},
     "output_type": "execute_result"
    }
   ],
   "source": [
    "# Another example\n",
    "age = 5\n",
    "is_child = True if age < 18  else False\n",
    "is_child\n"
   ]
  }
 ],
 "metadata": {
  "kernelspec": {
   "display_name": "my python project",
   "language": "python",
   "name": "python3"
  },
  "language_info": {
   "codemirror_mode": {
    "name": "ipython",
    "version": 3
   },
   "file_extension": ".py",
   "mimetype": "text/x-python",
   "name": "python",
   "nbconvert_exporter": "python",
   "pygments_lexer": "ipython3",
   "version": "3.12.10"
  }
 },
 "nbformat": 4,
 "nbformat_minor": 5
}
