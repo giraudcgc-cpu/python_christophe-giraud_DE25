{
 "cells": [
  {
   "cell_type": "markdown",
   "id": "039ecc79",
   "metadata": {},
   "source": [
    "## Welcome to the rectangle testing zone"
   ]
  },
  {
   "cell_type": "code",
   "execution_count": 1,
   "id": "877d44e3",
   "metadata": {},
   "outputs": [],
   "source": [
    "# imports\n",
    "from rectangle import Rectangle\n",
    "import matplotlib.pyplot as plt"
   ]
  },
  {
   "cell_type": "markdown",
   "id": "4e1b1411",
   "metadata": {},
   "source": [
    "#### Rectangle: enter numbers in the below brackets"
   ]
  },
  {
   "cell_type": "code",
   "execution_count": 2,
   "id": "7f7d850f",
   "metadata": {},
   "outputs": [],
   "source": [
    "# Use numbers int|float - (x, y, length_value, width_value)\n",
    "rect = Rectangle(0, 0, 6, 1)"
   ]
  },
  {
   "cell_type": "markdown",
   "id": "c28108ae",
   "metadata": {},
   "source": [
    "#### Testing the area"
   ]
  },
  {
   "cell_type": "code",
   "execution_count": 3,
   "id": "4c01cca0",
   "metadata": {},
   "outputs": [
    {
     "name": "stdout",
     "output_type": "stream",
     "text": [
      "rect.area = 6\n"
     ]
    }
   ],
   "source": [
    "print(f\"{rect.area = }\")"
   ]
  },
  {
   "cell_type": "markdown",
   "id": "88bf716f",
   "metadata": {},
   "source": [
    "#### Moving the center"
   ]
  },
  {
   "cell_type": "code",
   "execution_count": 4,
   "id": "143046ef",
   "metadata": {},
   "outputs": [
    {
     "data": {
      "text/plain": [
       "Rectangle(x=2, y=1, length=6, width=1)"
      ]
     },
     "execution_count": 4,
     "metadata": {},
     "output_type": "execute_result"
    }
   ],
   "source": [
    "# Enter 2 numbers, int or float\n",
    "rect.translate(2,1)  \n",
    "rect"
   ]
  },
  {
   "cell_type": "markdown",
   "id": "c63ad456",
   "metadata": {},
   "source": [
    "#### Comparison tests"
   ]
  },
  {
   "cell_type": "code",
   "execution_count": 5,
   "id": "401e3b3c",
   "metadata": {},
   "outputs": [],
   "source": [
    "# In the brackets, enter 4 numbers int|float, separated with a comma\n",
    "rect1 = Rectangle(0,0,6,3)\n",
    "rect2 = Rectangle(0,0,1,3)"
   ]
  },
  {
   "cell_type": "markdown",
   "id": "c12290d4",
   "metadata": {},
   "source": [
    "#### Check the repr"
   ]
  },
  {
   "cell_type": "code",
   "execution_count": 6,
   "id": "09afbe50",
   "metadata": {},
   "outputs": [
    {
     "data": {
      "text/plain": [
       "Rectangle(x=0, y=0, length=1, width=3)"
      ]
     },
     "execution_count": 6,
     "metadata": {},
     "output_type": "execute_result"
    }
   ],
   "source": [
    "# Type the variable name and execute \n",
    "rect2"
   ]
  },
  {
   "cell_type": "markdown",
   "id": "7bf0db0c",
   "metadata": {},
   "source": [
    "#### Check the string"
   ]
  },
  {
   "cell_type": "code",
   "execution_count": 7,
   "id": "995951e0",
   "metadata": {},
   "outputs": [
    {
     "name": "stdout",
     "output_type": "stream",
     "text": [
      "Point (0, 0) is the center of the rectangle with length 6 and width 3\n"
     ]
    }
   ],
   "source": [
    "# Enter the variable between the brackets () and execute\n",
    "print(rect1)"
   ]
  },
  {
   "cell_type": "markdown",
   "id": "b851237c",
   "metadata": {},
   "source": [
    "#### Check Operators Overload"
   ]
  },
  {
   "cell_type": "code",
   "execution_count": 8,
   "id": "c32ddada",
   "metadata": {},
   "outputs": [
    {
     "data": {
      "text/plain": [
       "False"
      ]
     },
     "execution_count": 8,
     "metadata": {},
     "output_type": "execute_result"
    }
   ],
   "source": [
    "# Check equality with == \n",
    "rect1 == rect2 # Inclination is not an issue "
   ]
  },
  {
   "cell_type": "code",
   "execution_count": 9,
   "id": "9b4448cb",
   "metadata": {},
   "outputs": [
    {
     "data": {
      "text/plain": [
       "'Not a square (sides: length=6, width=3)'"
      ]
     },
     "execution_count": 9,
     "metadata": {},
     "output_type": "execute_result"
    }
   ],
   "source": [
    "# Check is_square               \n",
    "rect1 = Rectangle(0, 0, 6, 3).is_square()\n",
    "rect1"
   ]
  },
  {
   "cell_type": "code",
   "execution_count": 12,
   "id": "4a82d08c",
   "metadata": {},
   "outputs": [
    {
     "name": "stdout",
     "output_type": "stream",
     "text": [
      "Has a perimeter of 18\n"
     ]
    }
   ],
   "source": [
    "# Checking the perimeter\n",
    "rect1 = Rectangle(0,0,6,3)\n",
    "rect1.perimeter_is          # Error: had overwritten the obj/rect1 to an int...\n",
    "#type(rect1), \n",
    "#type(rect1_perimeter)\n",
    "print(f\"Has a perimeter of {rect1.perimeter_is}\")"
   ]
  },
  {
   "cell_type": "code",
   "execution_count": 17,
   "id": "7b1d7968",
   "metadata": {},
   "outputs": [
    {
     "data": {
      "text/plain": [
       "True"
      ]
     },
     "execution_count": 17,
     "metadata": {},
     "output_type": "execute_result"
    }
   ],
   "source": [
    "# Checking greater than with > or <\n",
    "rect1 > rect2       # now that rect1 is a type rectangle, comparaison works\n"
   ]
  }
 ],
 "metadata": {
  "kernelspec": {
   "display_name": "python_christophe-giraud_DE25",
   "language": "python",
   "name": "python3"
  },
  "language_info": {
   "codemirror_mode": {
    "name": "ipython",
    "version": 3
   },
   "file_extension": ".py",
   "mimetype": "text/x-python",
   "name": "python",
   "nbconvert_exporter": "python",
   "pygments_lexer": "ipython3",
   "version": "3.12.10"
  }
 },
 "nbformat": 4,
 "nbformat_minor": 5
}
