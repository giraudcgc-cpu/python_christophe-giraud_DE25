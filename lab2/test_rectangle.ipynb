{
 "cells": [
  {
   "cell_type": "markdown",
   "id": "039ecc79",
   "metadata": {},
   "source": [
    "Welcome to the rectangle testing zone"
   ]
  },
  {
   "cell_type": "code",
   "execution_count": null,
   "id": "877d44e3",
   "metadata": {},
   "outputs": [],
   "source": [
    "import matplotlib.pyplot as plt\n",
    "from rectangle import Rectangle\n",
    "\n",
    "r = Rectangle(x=5, y=3, width=6, height=2)"
   ]
  }
 ],
 "metadata": {
  "kernelspec": {
   "display_name": "python_christophe-giraud_DE25",
   "language": "python",
   "name": "python3"
  },
  "language_info": {
   "codemirror_mode": {
    "name": "ipython",
    "version": 3
   },
   "file_extension": ".py",
   "mimetype": "text/x-python",
   "name": "python",
   "nbconvert_exporter": "python",
   "pygments_lexer": "ipython3",
   "version": "3.12.10"
  }
 },
 "nbformat": 4,
 "nbformat_minor": 5
}
