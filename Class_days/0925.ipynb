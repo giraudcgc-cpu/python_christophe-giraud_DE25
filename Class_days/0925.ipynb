{
 "cells": [
  {
   "cell_type": "markdown",
   "id": "9969ee9a",
   "metadata": {},
   "source": [
    "#25 09 course"
   ]
  },
  {
   "cell_type": "code",
   "execution_count": 1,
   "id": "83c73cb3",
   "metadata": {},
   "outputs": [
    {
     "name": "stdout",
     "output_type": "stream",
     "text": [
      "nber is odd\n"
     ]
    }
   ],
   "source": [
    "# ex\n",
    "nber = 5\n",
    "if nber %2 == 0:\n",
    "    print(\"Nber is even\")\n",
    "else:\n",
    "    print(\"nber is odd\")"
   ]
  },
  {
   "cell_type": "markdown",
   "id": "d1ad3ef5",
   "metadata": {},
   "source": [
    "# Nested if_st"
   ]
  },
  {
   "cell_type": "code",
   "execution_count": 2,
   "id": "30768e47",
   "metadata": {},
   "outputs": [
    {
     "name": "stdout",
     "output_type": "stream",
     "text": [
      "This is divisible by 5. Check if idivsible by 2\n",
      "Even number\n"
     ]
    }
   ],
   "source": [
    "# we have another if-st under a scenario of a if-st\n",
    "nber = 100\n",
    "if nber %5 == 0:\n",
    "    print(\"This is divisible by 5. Check if idivsible by 2\")\n",
    "    if nber %2 == 0:\n",
    "        print(\"Even number\")\n",
    "    else:\n",
    "        print(\"This is an odd number\")\n",
    "else:\n",
    "    print(\"This is not divisible by 5. No need to check more.\")"
   ]
  },
  {
   "cell_type": "markdown",
   "id": "209fafda",
   "metadata": {},
   "source": [
    "# One line if-st"
   ]
  },
  {
   "cell_type": "code",
   "execution_count": null,
   "id": "25f5caf7",
   "metadata": {},
   "outputs": [],
   "source": [
    "# When you want to refactor your code\n",
    "# Can 1 line code be better as more readable?\n",
    "\n",
    "#ex:\n",
    "name = \"Olivia\"\n",
    "gender = \"female\"\n",
    "age = 7\n",
    "\n",
    "if \"o\" in name:\n",
    "    print(f\"There is a 'o' in {name}\")\n",
    "# ***not working"
   ]
  },
  {
   "cell_type": "code",
   "execution_count": 12,
   "id": "ec2f34ad",
   "metadata": {},
   "outputs": [
    {
     "ename": "SyntaxError",
     "evalue": "invalid syntax. Perhaps you forgot a comma? (1700286107.py, line 3)",
     "output_type": "error",
     "traceback": [
      "  \u001b[36mCell\u001b[39m\u001b[36m \u001b[39m\u001b[32mIn[12]\u001b[39m\u001b[32m, line 3\u001b[39m\n\u001b[31m    \u001b[39m\u001b[31mif \"E\" in name: print(\"There is a \"E\" in {name}\")\u001b[39m\n                          ^\n\u001b[31mSyntaxError\u001b[39m\u001b[31m:\u001b[39m invalid syntax. Perhaps you forgot a comma?\n"
     ]
    }
   ],
   "source": [
    "# with 1 line\n",
    "name = \"Edith\"\n",
    "if \"E\" in name: print(\"There is a \"E\" in {name}\")\n",
    "# ***not working"
   ]
  },
  {
   "cell_type": "markdown",
   "id": "d1410197",
   "metadata": {},
   "source": [
    "# FOR and WHILE\n"
   ]
  },
  {
   "cell_type": "code",
   "execution_count": null,
   "id": "28299249",
   "metadata": {},
   "outputs": [
    {
     "name": "stdout",
     "output_type": "stream",
     "text": [
      "0\n",
      "1\n",
      "2\n",
      "3\n",
      "4\n"
     ]
    }
   ],
   "source": [
    "# for - when we know the number of iterations \n",
    "for i in range(5):\n",
    "    print(i)"
   ]
  },
  {
   "cell_type": "code",
   "execution_count": 15,
   "id": "22e3131c",
   "metadata": {},
   "outputs": [
    {
     "name": "stdout",
     "output_type": "stream",
     "text": [
      "0\n",
      "1\n",
      "2\n",
      "3\n",
      "4\n"
     ]
    }
   ],
   "source": [
    "# while - when we do not know the number of iterations but have an idea of the limit\n",
    "i = 0\n",
    "while i < 5:\n",
    "    print(i)\n",
    "    i += 1"
   ]
  },
  {
   "cell_type": "markdown",
   "id": "d3c9ba43",
   "metadata": {},
   "source": [
    "Few notes: <br>\n",
    "-= ex: x = x -2 <br>\n",
    "x/=2 ex: x = x/2 <br>\n",
    "*= ex: x*=2 , x = x*2"
   ]
  },
  {
   "cell_type": "markdown",
   "id": "72949744",
   "metadata": {},
   "source": [
    "# Oil leakage example\n",
    "\n",
    "At the start, there were 80 000 birds, each year half (1/2) die. In how many years will be only left 1/10 of the birds. \n",
    "\n"
   ]
  },
  {
   "cell_type": "code",
   "execution_count": 18,
   "id": "5d51ba05",
   "metadata": {},
   "outputs": [
    {
     "name": "stdout",
     "output_type": "stream",
     "text": [
      "Currently this year 0, we have 80000 birds.\n",
      "Currently this year 1, we have 40000.0 birds.\n",
      "Currently this year 2, we have 20000.0 birds.\n",
      "Currently this year 3, we have 10000.0 birds.\n"
     ]
    }
   ],
   "source": [
    "# start with the variables\n",
    "birds = 80000 # we know the nber at the start\n",
    "year = 0 # hence the start is year one, as we need to know how long it will take\n",
    "\n",
    "# we don't know how long it will take, so we use \"while\" but we have a target (when 1/10 0f 80 000 are left)\n",
    "while birds > 8000:\n",
    "    print(f\"Currently this year {year}, we have {birds} birds.\")    # we want to start to print this\n",
    "    birds /=2   # here we could also write birds = birds/2          # code reads the division\n",
    "    year += 1                                                       # code ads +1 year and restart from the top\n",
    "\n",
    "# idea is we don't know how many years it will take + we know the target = 8000 birds, so we do it a l'envers."
   ]
  },
  {
   "cell_type": "code",
   "execution_count": 19,
   "id": "d26473b6",
   "metadata": {},
   "outputs": [
    {
     "name": "stdout",
     "output_type": "stream",
     "text": [
      "0\n",
      "1\n",
      "2\n",
      "3\n",
      "4\n",
      "5\n"
     ]
    }
   ],
   "source": [
    "# WHILE TRUE\n",
    "# idea is that how long as the condition is true, the code runs...so we need a break point\n",
    "i = 0           # variable/value at the start\n",
    "while True:\n",
    "    print(i)    \n",
    "    i += 1      # incrementing of \"i\" with 1\n",
    "    if i > 5:   # the limit, the break, the condition taht stops the code. Here condition is devaluated.\n",
    "        break"
   ]
  },
  {
   "cell_type": "markdown",
   "id": "addb4d4d",
   "metadata": {},
   "source": [
    "# 3 choices to loop\n",
    "\n",
    "1. for <br>\n",
    "2. while <br>\n",
    "3. while True + break\n"
   ]
  },
  {
   "cell_type": "markdown",
   "id": "066750a6",
   "metadata": {},
   "source": [
    "Next class on 30 09 2025"
   ]
  }
 ],
 "metadata": {
  "kernelspec": {
   "display_name": "python_christophe-giraud_DE25",
   "language": "python",
   "name": "python3"
  },
  "language_info": {
   "codemirror_mode": {
    "name": "ipython",
    "version": 3
   },
   "file_extension": ".py",
   "mimetype": "text/x-python",
   "name": "python",
   "nbconvert_exporter": "python",
   "pygments_lexer": "ipython3",
   "version": "3.12.10"
  }
 },
 "nbformat": 4,
 "nbformat_minor": 5
}
