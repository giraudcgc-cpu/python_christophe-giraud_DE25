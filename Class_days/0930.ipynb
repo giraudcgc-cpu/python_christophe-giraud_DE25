{
 "cells": [
  {
   "cell_type": "markdown",
   "id": "4325157c",
   "metadata": {},
   "source": [
    "30 09 2025 Class"
   ]
  },
  {
   "cell_type": "markdown",
   "id": "141ac738",
   "metadata": {},
   "source": [
    "Range(), random module, loop through a list, ex of pythonic code"
   ]
  },
  {
   "cell_type": "markdown",
   "id": "357afa2d",
   "metadata": {},
   "source": [
    "# Range() \n",
    "\n",
    "- with 1 argument like range(5) where 5 is the end argument, exclusive which means that the count stops at 4, strating from 0,1,2,3,4.\n",
    "\n",
    "- with 3 arguments like range (1,5,2) where 1 is the starting point, 5 the non exclusive end argument and 2 is the incremental argument."
   ]
  },
  {
   "cell_type": "code",
   "execution_count": 2,
   "id": "bc39f991",
   "metadata": {},
   "outputs": [
    {
     "name": "stdout",
     "output_type": "stream",
     "text": [
      "1\n",
      "3\n"
     ]
    }
   ],
   "source": [
    "# ex:\n",
    "for i in range(1,5,2):\n",
    "    print(i)\n",
    "\n",
    "    # result will show 1 and 3. \n",
    "    # 1 as the starting point and 3 as the last valid count as per the function stopping at 4 anwith the increasing of 2 from the starting point 1.\n"
   ]
  }
 ],
 "metadata": {
  "kernelspec": {
   "display_name": "python_christophe-giraud_DE25",
   "language": "python",
   "name": "python3"
  },
  "language_info": {
   "codemirror_mode": {
    "name": "ipython",
    "version": 3
   },
   "file_extension": ".py",
   "mimetype": "text/x-python",
   "name": "python",
   "nbconvert_exporter": "python",
   "pygments_lexer": "ipython3",
   "version": "3.12.10"
  }
 },
 "nbformat": 4,
 "nbformat_minor": 5
}
